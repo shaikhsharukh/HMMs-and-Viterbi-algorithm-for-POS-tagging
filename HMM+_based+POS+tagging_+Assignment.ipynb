{
  "nbformat": 4,
  "nbformat_minor": 0,
  "metadata": {
    "kernelspec": {
      "display_name": "Python 3",
      "language": "python",
      "name": "python3"
    },
    "language_info": {
      "codemirror_mode": {
        "name": "ipython",
        "version": 3
      },
      "file_extension": ".py",
      "mimetype": "text/x-python",
      "name": "python",
      "nbconvert_exporter": "python",
      "pygments_lexer": "ipython3",
      "version": "3.6.4"
    },
    "colab": {
      "name": "HMM+-based+POS+tagging-+Assignment.ipynb",
      "provenance": []
    }
  },
  "cells": [
    {
      "cell_type": "markdown",
      "metadata": {
        "id": "vsAdmfoqQSpb"
      },
      "source": [
        "## POS tagging using modified Viterbi"
      ]
    },
    {
      "cell_type": "markdown",
      "metadata": {
        "id": "BvbFZjnGQSp1"
      },
      "source": [
        "### Data Preparation"
      ]
    },
    {
      "cell_type": "code",
      "metadata": {
        "colab": {
          "base_uri": "https://localhost:8080/"
        },
        "id": "CeOmGI3UQSp3",
        "outputId": "bcd23c4e-57cb-4d51-a7bc-cc59eda0eb95"
      },
      "source": [
        "#Importing libraries\n",
        "import nltk, re, pprint\n",
        "import numpy as np\n",
        "import pandas as pd\n",
        "import requests\n",
        "import matplotlib.pyplot as plt\n",
        "import seaborn as sns\n",
        "import pprint, time\n",
        "import random\n",
        "from sklearn.model_selection import train_test_split\n",
        "from nltk.tokenize import word_tokenize\n",
        "import nltk\n",
        "nltk.download('treebank')\n",
        "nltk.download('universal_tagset')"
      ],
      "execution_count": 105,
      "outputs": [
        {
          "output_type": "stream",
          "text": [
            "[nltk_data] Downloading package treebank to /root/nltk_data...\n",
            "[nltk_data]   Package treebank is already up-to-date!\n",
            "[nltk_data] Downloading package universal_tagset to /root/nltk_data...\n",
            "[nltk_data]   Package universal_tagset is already up-to-date!\n"
          ],
          "name": "stdout"
        },
        {
          "output_type": "execute_result",
          "data": {
            "text/plain": [
              "True"
            ]
          },
          "metadata": {
            "tags": []
          },
          "execution_count": 105
        }
      ]
    },
    {
      "cell_type": "code",
      "metadata": {
        "id": "Wv74Zj8-QSp5"
      },
      "source": [
        "# reading the Treebank tagged sentences\n",
        "wsj = list(nltk.corpus.treebank.tagged_sents(tagset='universal'))"
      ],
      "execution_count": 106,
      "outputs": []
    },
    {
      "cell_type": "code",
      "metadata": {
        "id": "QYA8saRMQSp_",
        "colab": {
          "base_uri": "https://localhost:8080/"
        },
        "outputId": "1e766ef8-f87d-4390-cd05-5781fcb57fcf"
      },
      "source": [
        "print(len(wsj))\r\n",
        "print(wsj[0])\r\n",
        "wsj[0][0]"
      ],
      "execution_count": 107,
      "outputs": [
        {
          "output_type": "stream",
          "text": [
            "3914\n",
            "[('Pierre', 'NOUN'), ('Vinken', 'NOUN'), (',', '.'), ('61', 'NUM'), ('years', 'NOUN'), ('old', 'ADJ'), (',', '.'), ('will', 'VERB'), ('join', 'VERB'), ('the', 'DET'), ('board', 'NOUN'), ('as', 'ADP'), ('a', 'DET'), ('nonexecutive', 'ADJ'), ('director', 'NOUN'), ('Nov.', 'NOUN'), ('29', 'NUM'), ('.', '.')]\n"
          ],
          "name": "stdout"
        },
        {
          "output_type": "execute_result",
          "data": {
            "text/plain": [
              "('Pierre', 'NOUN')"
            ]
          },
          "metadata": {
            "tags": []
          },
          "execution_count": 107
        }
      ]
    },
    {
      "cell_type": "code",
      "metadata": {
        "colab": {
          "base_uri": "https://localhost:8080/"
        },
        "id": "zrMlIYna9L-I",
        "outputId": "c808392d-2f20-45b6-b322-bd4e455db945"
      },
      "source": [
        "# first few tagged sentences\r\n",
        "print(wsj[:40])"
      ],
      "execution_count": 108,
      "outputs": [
        {
          "output_type": "stream",
          "text": [
            "[[('Pierre', 'NOUN'), ('Vinken', 'NOUN'), (',', '.'), ('61', 'NUM'), ('years', 'NOUN'), ('old', 'ADJ'), (',', '.'), ('will', 'VERB'), ('join', 'VERB'), ('the', 'DET'), ('board', 'NOUN'), ('as', 'ADP'), ('a', 'DET'), ('nonexecutive', 'ADJ'), ('director', 'NOUN'), ('Nov.', 'NOUN'), ('29', 'NUM'), ('.', '.')], [('Mr.', 'NOUN'), ('Vinken', 'NOUN'), ('is', 'VERB'), ('chairman', 'NOUN'), ('of', 'ADP'), ('Elsevier', 'NOUN'), ('N.V.', 'NOUN'), (',', '.'), ('the', 'DET'), ('Dutch', 'NOUN'), ('publishing', 'VERB'), ('group', 'NOUN'), ('.', '.')], [('Rudolph', 'NOUN'), ('Agnew', 'NOUN'), (',', '.'), ('55', 'NUM'), ('years', 'NOUN'), ('old', 'ADJ'), ('and', 'CONJ'), ('former', 'ADJ'), ('chairman', 'NOUN'), ('of', 'ADP'), ('Consolidated', 'NOUN'), ('Gold', 'NOUN'), ('Fields', 'NOUN'), ('PLC', 'NOUN'), (',', '.'), ('was', 'VERB'), ('named', 'VERB'), ('*-1', 'X'), ('a', 'DET'), ('nonexecutive', 'ADJ'), ('director', 'NOUN'), ('of', 'ADP'), ('this', 'DET'), ('British', 'ADJ'), ('industrial', 'ADJ'), ('conglomerate', 'NOUN'), ('.', '.')], [('A', 'DET'), ('form', 'NOUN'), ('of', 'ADP'), ('asbestos', 'NOUN'), ('once', 'ADV'), ('used', 'VERB'), ('*', 'X'), ('*', 'X'), ('to', 'PRT'), ('make', 'VERB'), ('Kent', 'NOUN'), ('cigarette', 'NOUN'), ('filters', 'NOUN'), ('has', 'VERB'), ('caused', 'VERB'), ('a', 'DET'), ('high', 'ADJ'), ('percentage', 'NOUN'), ('of', 'ADP'), ('cancer', 'NOUN'), ('deaths', 'NOUN'), ('among', 'ADP'), ('a', 'DET'), ('group', 'NOUN'), ('of', 'ADP'), ('workers', 'NOUN'), ('exposed', 'VERB'), ('*', 'X'), ('to', 'PRT'), ('it', 'PRON'), ('more', 'ADV'), ('than', 'ADP'), ('30', 'NUM'), ('years', 'NOUN'), ('ago', 'ADP'), (',', '.'), ('researchers', 'NOUN'), ('reported', 'VERB'), ('0', 'X'), ('*T*-1', 'X'), ('.', '.')], [('The', 'DET'), ('asbestos', 'NOUN'), ('fiber', 'NOUN'), (',', '.'), ('crocidolite', 'NOUN'), (',', '.'), ('is', 'VERB'), ('unusually', 'ADV'), ('resilient', 'ADJ'), ('once', 'ADP'), ('it', 'PRON'), ('enters', 'VERB'), ('the', 'DET'), ('lungs', 'NOUN'), (',', '.'), ('with', 'ADP'), ('even', 'ADV'), ('brief', 'ADJ'), ('exposures', 'NOUN'), ('to', 'PRT'), ('it', 'PRON'), ('causing', 'VERB'), ('symptoms', 'NOUN'), ('that', 'DET'), ('*T*-1', 'X'), ('show', 'VERB'), ('up', 'PRT'), ('decades', 'NOUN'), ('later', 'ADJ'), (',', '.'), ('researchers', 'NOUN'), ('said', 'VERB'), ('0', 'X'), ('*T*-2', 'X'), ('.', '.')], [('Lorillard', 'NOUN'), ('Inc.', 'NOUN'), (',', '.'), ('the', 'DET'), ('unit', 'NOUN'), ('of', 'ADP'), ('New', 'ADJ'), ('York-based', 'ADJ'), ('Loews', 'NOUN'), ('Corp.', 'NOUN'), ('that', 'DET'), ('*T*-2', 'X'), ('makes', 'VERB'), ('Kent', 'NOUN'), ('cigarettes', 'NOUN'), (',', '.'), ('stopped', 'VERB'), ('using', 'VERB'), ('crocidolite', 'NOUN'), ('in', 'ADP'), ('its', 'PRON'), ('Micronite', 'NOUN'), ('cigarette', 'NOUN'), ('filters', 'NOUN'), ('in', 'ADP'), ('1956', 'NUM'), ('.', '.')], [('Although', 'ADP'), ('preliminary', 'ADJ'), ('findings', 'NOUN'), ('were', 'VERB'), ('reported', 'VERB'), ('*-2', 'X'), ('more', 'ADV'), ('than', 'ADP'), ('a', 'DET'), ('year', 'NOUN'), ('ago', 'ADP'), (',', '.'), ('the', 'DET'), ('latest', 'ADJ'), ('results', 'NOUN'), ('appear', 'VERB'), ('in', 'ADP'), ('today', 'NOUN'), (\"'s\", 'PRT'), ('New', 'NOUN'), ('England', 'NOUN'), ('Journal', 'NOUN'), ('of', 'ADP'), ('Medicine', 'NOUN'), (',', '.'), ('a', 'DET'), ('forum', 'NOUN'), ('likely', 'ADJ'), ('*', 'X'), ('to', 'PRT'), ('bring', 'VERB'), ('new', 'ADJ'), ('attention', 'NOUN'), ('to', 'PRT'), ('the', 'DET'), ('problem', 'NOUN'), ('.', '.')], [('A', 'DET'), ('Lorillard', 'NOUN'), ('spokewoman', 'NOUN'), ('said', 'VERB'), (',', '.'), ('``', '.'), ('This', 'DET'), ('is', 'VERB'), ('an', 'DET'), ('old', 'ADJ'), ('story', 'NOUN'), ('.', '.')], [('We', 'PRON'), (\"'re\", 'VERB'), ('talking', 'VERB'), ('about', 'ADP'), ('years', 'NOUN'), ('ago', 'ADP'), ('before', 'ADP'), ('anyone', 'NOUN'), ('heard', 'VERB'), ('of', 'ADP'), ('asbestos', 'NOUN'), ('having', 'VERB'), ('any', 'DET'), ('questionable', 'ADJ'), ('properties', 'NOUN'), ('.', '.')], [('There', 'DET'), ('is', 'VERB'), ('no', 'DET'), ('asbestos', 'NOUN'), ('in', 'ADP'), ('our', 'PRON'), ('products', 'NOUN'), ('now', 'ADV'), ('.', '.'), (\"''\", '.')], [('Neither', 'DET'), ('Lorillard', 'NOUN'), ('nor', 'CONJ'), ('the', 'DET'), ('researchers', 'NOUN'), ('who', 'PRON'), ('*T*-3', 'X'), ('studied', 'VERB'), ('the', 'DET'), ('workers', 'NOUN'), ('were', 'VERB'), ('aware', 'ADJ'), ('of', 'ADP'), ('any', 'DET'), ('research', 'NOUN'), ('on', 'ADP'), ('smokers', 'NOUN'), ('of', 'ADP'), ('the', 'DET'), ('Kent', 'NOUN'), ('cigarettes', 'NOUN'), ('.', '.')], [('``', '.'), ('We', 'PRON'), ('have', 'VERB'), ('no', 'DET'), ('useful', 'ADJ'), ('information', 'NOUN'), ('on', 'ADP'), ('whether', 'ADP'), ('users', 'NOUN'), ('are', 'VERB'), ('at', 'ADP'), ('risk', 'NOUN'), (',', '.'), (\"''\", '.'), ('said', 'VERB'), ('*T*-1', 'X'), ('James', 'NOUN'), ('A.', 'NOUN'), ('Talcott', 'NOUN'), ('of', 'ADP'), ('Boston', 'NOUN'), (\"'s\", 'PRT'), ('Dana-Farber', 'NOUN'), ('Cancer', 'NOUN'), ('Institute', 'NOUN'), ('.', '.')], [('Dr.', 'NOUN'), ('Talcott', 'NOUN'), ('led', 'VERB'), ('a', 'DET'), ('team', 'NOUN'), ('of', 'ADP'), ('researchers', 'NOUN'), ('from', 'ADP'), ('the', 'DET'), ('National', 'NOUN'), ('Cancer', 'NOUN'), ('Institute', 'NOUN'), ('and', 'CONJ'), ('the', 'DET'), ('medical', 'ADJ'), ('schools', 'NOUN'), ('of', 'ADP'), ('Harvard', 'NOUN'), ('University', 'NOUN'), ('and', 'CONJ'), ('Boston', 'NOUN'), ('University', 'NOUN'), ('.', '.')], [('The', 'DET'), ('Lorillard', 'NOUN'), ('spokeswoman', 'NOUN'), ('said', 'VERB'), ('0', 'X'), ('asbestos', 'NOUN'), ('was', 'VERB'), ('used', 'VERB'), ('*-1', 'X'), ('in', 'ADP'), ('``', '.'), ('very', 'ADV'), ('modest', 'ADJ'), ('amounts', 'NOUN'), (\"''\", '.'), ('in', 'ADP'), ('*', 'X'), ('making', 'VERB'), ('paper', 'NOUN'), ('for', 'ADP'), ('the', 'DET'), ('filters', 'NOUN'), ('in', 'ADP'), ('the', 'DET'), ('early', 'ADJ'), ('1950s', 'NUM'), ('and', 'CONJ'), ('replaced', 'VERB'), ('*-1', 'X'), ('with', 'ADP'), ('a', 'DET'), ('different', 'ADJ'), ('type', 'NOUN'), ('of', 'ADP'), ('filter', 'NOUN'), ('in', 'ADP'), ('1956', 'NUM'), ('.', '.')], [('From', 'ADP'), ('1953', 'NUM'), ('to', 'PRT'), ('1955', 'NUM'), (',', '.'), ('9.8', 'NUM'), ('billion', 'NUM'), ('Kent', 'NOUN'), ('cigarettes', 'NOUN'), ('with', 'ADP'), ('the', 'DET'), ('filters', 'NOUN'), ('were', 'VERB'), ('sold', 'VERB'), ('*-3', 'X'), (',', '.'), ('the', 'DET'), ('company', 'NOUN'), ('said', 'VERB'), ('0', 'X'), ('*T*-1', 'X'), ('.', '.')], [('Among', 'ADP'), ('33', 'NUM'), ('men', 'NOUN'), ('who', 'PRON'), ('*T*-4', 'X'), ('worked', 'VERB'), ('closely', 'ADV'), ('with', 'ADP'), ('the', 'DET'), ('substance', 'NOUN'), (',', '.'), ('28', 'NUM'), ('*ICH*-1', 'X'), ('have', 'VERB'), ('died', 'VERB'), ('--', '.'), ('more', 'ADJ'), ('than', 'ADP'), ('three', 'NUM'), ('times', 'NOUN'), ('the', 'DET'), ('expected', 'VERB'), ('number', 'NOUN'), ('.', '.')], [('Four', 'NUM'), ('of', 'ADP'), ('the', 'DET'), ('five', 'NUM'), ('surviving', 'VERB'), ('workers', 'NOUN'), ('have', 'VERB'), ('asbestos-related', 'ADJ'), ('diseases', 'NOUN'), (',', '.'), ('including', 'VERB'), ('three', 'NUM'), ('with', 'ADP'), ('recently', 'ADV'), ('diagnosed', 'VERB'), ('cancer', 'NOUN'), ('.', '.')], [('The', 'DET'), ('total', 'NOUN'), ('of', 'ADP'), ('18', 'NUM'), ('deaths', 'NOUN'), ('from', 'ADP'), ('malignant', 'ADJ'), ('mesothelioma', 'NOUN'), (',', '.'), ('lung', 'NOUN'), ('cancer', 'NOUN'), ('and', 'CONJ'), ('asbestosis', 'NOUN'), ('was', 'VERB'), ('far', 'ADV'), ('higher', 'ADJ'), ('than', 'ADP'), ('*', 'X'), ('expected', 'VERB'), ('*?*', 'X'), (',', '.'), ('the', 'DET'), ('researchers', 'NOUN'), ('said', 'VERB'), ('0', 'X'), ('*T*-1', 'X'), ('.', '.')], [('``', '.'), ('The', 'DET'), ('morbidity', 'NOUN'), ('rate', 'NOUN'), ('is', 'VERB'), ('a', 'DET'), ('striking', 'ADJ'), ('finding', 'NOUN'), ('among', 'ADP'), ('those', 'DET'), ('of', 'ADP'), ('us', 'PRON'), ('who', 'PRON'), ('*T*-5', 'X'), ('study', 'VERB'), ('asbestos-related', 'ADJ'), ('diseases', 'NOUN'), (',', '.'), (\"''\", '.'), ('said', 'VERB'), ('*T*-1', 'X'), ('Dr.', 'NOUN'), ('Talcott', 'NOUN'), ('.', '.')], [('The', 'DET'), ('percentage', 'NOUN'), ('of', 'ADP'), ('lung', 'NOUN'), ('cancer', 'NOUN'), ('deaths', 'NOUN'), ('among', 'ADP'), ('the', 'DET'), ('workers', 'NOUN'), ('at', 'ADP'), ('the', 'DET'), ('West', 'NOUN'), ('Groton', 'NOUN'), (',', '.'), ('Mass.', 'NOUN'), (',', '.'), ('paper', 'NOUN'), ('factory', 'NOUN'), ('appears', 'VERB'), ('*-1', 'X'), ('to', 'PRT'), ('be', 'VERB'), ('the', 'DET'), ('highest', 'ADJ'), ('for', 'ADP'), ('any', 'DET'), ('asbestos', 'NOUN'), ('workers', 'NOUN'), ('studied', 'VERB'), ('*', 'X'), ('in', 'ADP'), ('Western', 'ADJ'), ('industrialized', 'VERB'), ('countries', 'NOUN'), (',', '.'), ('he', 'PRON'), ('said', 'VERB'), ('0', 'X'), ('*T*-2', 'X'), ('.', '.')], [('The', 'DET'), ('plant', 'NOUN'), (',', '.'), ('which', 'DET'), ('*T*-1', 'X'), ('is', 'VERB'), ('owned', 'VERB'), ('*-4', 'X'), ('by', 'ADP'), ('Hollingsworth', 'NOUN'), ('&', 'CONJ'), ('Vose', 'NOUN'), ('Co.', 'NOUN'), (',', '.'), ('was', 'VERB'), ('under', 'ADP'), ('contract', 'NOUN'), ('*ICH*-2', 'X'), ('with', 'ADP'), ('Lorillard', 'NOUN'), ('*', 'X'), ('to', 'PRT'), ('make', 'VERB'), ('the', 'DET'), ('cigarette', 'NOUN'), ('filters', 'NOUN'), ('.', '.')], [('The', 'DET'), ('finding', 'NOUN'), ('probably', 'ADV'), ('will', 'VERB'), ('support', 'VERB'), ('those', 'DET'), ('who', 'PRON'), ('*T*-6', 'X'), ('argue', 'VERB'), ('that', 'ADP'), ('the', 'DET'), ('U.S.', 'NOUN'), ('should', 'VERB'), ('regulate', 'VERB'), ('the', 'DET'), ('class', 'NOUN'), ('of', 'ADP'), ('asbestos', 'NOUN'), ('including', 'VERB'), ('crocidolite', 'NOUN'), ('more', 'ADV'), ('stringently', 'ADV'), ('than', 'ADP'), ('the', 'DET'), ('common', 'ADJ'), ('kind', 'NOUN'), ('of', 'ADP'), ('asbestos', 'NOUN'), (',', '.'), ('chrysotile', 'NOUN'), (',', '.'), ('found', 'VERB'), ('*', 'X'), ('in', 'ADP'), ('most', 'ADJ'), ('schools', 'NOUN'), ('and', 'CONJ'), ('other', 'ADJ'), ('buildings', 'NOUN'), (',', '.'), ('Dr.', 'NOUN'), ('Talcott', 'NOUN'), ('said', 'VERB'), ('0', 'X'), ('*T*-1', 'X'), ('.', '.')], [('The', 'DET'), ('U.S.', 'NOUN'), ('is', 'VERB'), ('one', 'NUM'), ('of', 'ADP'), ('the', 'DET'), ('few', 'ADJ'), ('industrialized', 'VERB'), ('nations', 'NOUN'), ('that', 'DET'), ('*T*-7', 'X'), ('does', 'VERB'), (\"n't\", 'ADV'), ('have', 'VERB'), ('a', 'DET'), ('higher', 'ADJ'), ('standard', 'NOUN'), ('of', 'ADP'), ('regulation', 'NOUN'), ('for', 'ADP'), ('the', 'DET'), ('smooth', 'ADJ'), (',', '.'), ('needle-like', 'ADJ'), ('fibers', 'NOUN'), ('such', 'ADJ'), ('as', 'ADP'), ('crocidolite', 'NOUN'), ('that', 'DET'), ('*T*-1', 'X'), ('are', 'VERB'), ('classified', 'VERB'), ('*-5', 'X'), ('as', 'ADP'), ('amphobiles', 'NOUN'), (',', '.'), ('according', 'VERB'), ('to', 'PRT'), ('Brooke', 'NOUN'), ('T.', 'NOUN'), ('Mossman', 'NOUN'), (',', '.'), ('a', 'DET'), ('professor', 'NOUN'), ('of', 'ADP'), ('pathlogy', 'NOUN'), ('at', 'ADP'), ('the', 'DET'), ('University', 'NOUN'), ('of', 'ADP'), ('Vermont', 'NOUN'), ('College', 'NOUN'), ('of', 'ADP'), ('Medicine', 'NOUN'), ('.', '.')], [('More', 'ADV'), ('common', 'ADJ'), ('chrysotile', 'NOUN'), ('fibers', 'NOUN'), ('are', 'VERB'), ('curly', 'ADJ'), ('and', 'CONJ'), ('are', 'VERB'), ('more', 'ADV'), ('easily', 'ADV'), ('rejected', 'VERB'), ('*-1', 'X'), ('by', 'ADP'), ('the', 'DET'), ('body', 'NOUN'), (',', '.'), ('Dr.', 'NOUN'), ('Mossman', 'NOUN'), ('explained', 'VERB'), ('0', 'X'), ('*T*-2', 'X'), ('.', '.')], [('In', 'ADP'), ('July', 'NOUN'), (',', '.'), ('the', 'DET'), ('Environmental', 'NOUN'), ('Protection', 'NOUN'), ('Agency', 'NOUN'), ('imposed', 'VERB'), ('a', 'DET'), ('gradual', 'ADJ'), ('ban', 'NOUN'), ('on', 'ADP'), ('virtually', 'ADV'), ('all', 'DET'), ('uses', 'NOUN'), ('of', 'ADP'), ('asbestos', 'NOUN'), ('.', '.')], [('By', 'ADP'), ('1997', 'NUM'), (',', '.'), ('almost', 'ADV'), ('all', 'DET'), ('remaining', 'VERB'), ('uses', 'NOUN'), ('of', 'ADP'), ('cancer-causing', 'ADJ'), ('asbestos', 'NOUN'), ('will', 'VERB'), ('be', 'VERB'), ('outlawed', 'VERB'), ('*-6', 'X'), ('.', '.')], [('About', 'ADP'), ('160', 'NUM'), ('workers', 'NOUN'), ('at', 'ADP'), ('a', 'DET'), ('factory', 'NOUN'), ('that', 'DET'), ('*T*-8', 'X'), ('made', 'VERB'), ('paper', 'NOUN'), ('for', 'ADP'), ('the', 'DET'), ('Kent', 'NOUN'), ('filters', 'NOUN'), ('were', 'VERB'), ('exposed', 'VERB'), ('*-7', 'X'), ('to', 'PRT'), ('asbestos', 'NOUN'), ('in', 'ADP'), ('the', 'DET'), ('1950s', 'NUM'), ('.', '.')], [('Areas', 'NOUN'), ('of', 'ADP'), ('the', 'DET'), ('factory', 'NOUN'), ('*ICH*-2', 'X'), ('were', 'VERB'), ('particularly', 'ADV'), ('dusty', 'ADJ'), ('where', 'ADV'), ('the', 'DET'), ('crocidolite', 'NOUN'), ('was', 'VERB'), ('used', 'VERB'), ('*-8', 'X'), ('*T*-1', 'X'), ('.', '.')], [('Workers', 'NOUN'), ('dumped', 'VERB'), ('large', 'ADJ'), ('burlap', 'NOUN'), ('sacks', 'NOUN'), ('of', 'ADP'), ('the', 'DET'), ('imported', 'VERB'), ('material', 'NOUN'), ('into', 'ADP'), ('a', 'DET'), ('huge', 'ADJ'), ('bin', 'NOUN'), (',', '.'), ('poured', 'VERB'), ('in', 'PRT'), ('cotton', 'NOUN'), ('and', 'CONJ'), ('acetate', 'NOUN'), ('fibers', 'NOUN'), ('and', 'CONJ'), ('mechanically', 'ADV'), ('mixed', 'VERB'), ('the', 'DET'), ('dry', 'ADJ'), ('fibers', 'NOUN'), ('in', 'ADP'), ('a', 'DET'), ('process', 'NOUN'), ('used', 'VERB'), ('*', 'X'), ('*', 'X'), ('to', 'PRT'), ('make', 'VERB'), ('filters', 'NOUN'), ('.', '.')], [('Workers', 'NOUN'), ('described', 'VERB'), ('``', '.'), ('clouds', 'NOUN'), ('of', 'ADP'), ('blue', 'ADJ'), ('dust', 'NOUN'), (\"''\", '.'), ('that', 'DET'), ('*T*-1', 'X'), ('hung', 'VERB'), ('over', 'ADP'), ('parts', 'NOUN'), ('of', 'ADP'), ('the', 'DET'), ('factory', 'NOUN'), (',', '.'), ('even', 'ADV'), ('though', 'ADP'), ('exhaust', 'NOUN'), ('fans', 'NOUN'), ('ventilated', 'VERB'), ('the', 'DET'), ('area', 'NOUN'), ('.', '.')], [('``', '.'), ('There', 'DET'), (\"'s\", 'VERB'), ('no', 'DET'), ('question', 'NOUN'), ('that', 'ADP'), ('some', 'DET'), ('of', 'ADP'), ('those', 'DET'), ('workers', 'NOUN'), ('and', 'CONJ'), ('managers', 'NOUN'), ('contracted', 'VERB'), ('asbestos-related', 'ADJ'), ('diseases', 'NOUN'), (',', '.'), (\"''\", '.'), ('said', 'VERB'), ('*T*-1', 'X'), ('Darrell', 'NOUN'), ('Phillips', 'NOUN'), (',', '.'), ('vice', 'NOUN'), ('president', 'NOUN'), ('of', 'ADP'), ('human', 'ADJ'), ('resources', 'NOUN'), ('for', 'ADP'), ('Hollingsworth', 'NOUN'), ('&', 'CONJ'), ('Vose', 'NOUN'), ('.', '.')], [('``', '.'), ('But', 'CONJ'), ('you', 'PRON'), ('have', 'VERB'), ('*-1', 'X'), ('to', 'PRT'), ('recognize', 'VERB'), ('that', 'ADP'), ('these', 'DET'), ('events', 'NOUN'), ('took', 'VERB'), ('place', 'NOUN'), ('35', 'NUM'), ('years', 'NOUN'), ('ago', 'ADP'), ('.', '.')], [('It', 'PRON'), ('has', 'VERB'), ('no', 'DET'), ('bearing', 'NOUN'), ('on', 'ADP'), ('our', 'PRON'), ('work', 'NOUN'), ('force', 'NOUN'), ('today', 'NOUN'), ('.', '.')], [('Yields', 'NOUN'), ('on', 'ADP'), ('money-market', 'ADJ'), ('mutual', 'ADJ'), ('funds', 'NOUN'), ('continued', 'VERB'), ('*-1', 'X'), ('to', 'PRT'), ('slide', 'VERB'), (',', '.'), ('amid', 'ADP'), ('signs', 'NOUN'), ('that', 'ADP'), ('portfolio', 'NOUN'), ('managers', 'NOUN'), ('expect', 'VERB'), ('further', 'ADJ'), ('declines', 'NOUN'), ('in', 'ADP'), ('interest', 'NOUN'), ('rates', 'NOUN'), ('.', '.')], [('The', 'DET'), ('average', 'ADJ'), ('seven-day', 'ADJ'), ('compound', 'NOUN'), ('yield', 'NOUN'), ('of', 'ADP'), ('the', 'DET'), ('400', 'NUM'), ('taxable', 'ADJ'), ('funds', 'NOUN'), ('tracked', 'VERB'), ('*', 'X'), ('by', 'ADP'), ('IBC', 'NOUN'), (\"'s\", 'PRT'), ('Money', 'NOUN'), ('Fund', 'NOUN'), ('Report', 'NOUN'), ('eased', 'VERB'), ('a', 'DET'), ('fraction', 'NOUN'), ('of', 'ADP'), ('a', 'DET'), ('percentage', 'NOUN'), ('point', 'NOUN'), ('to', 'PRT'), ('8.45', 'NUM'), ('%', 'NOUN'), ('from', 'ADP'), ('8.47', 'NUM'), ('%', 'NOUN'), ('for', 'ADP'), ('the', 'DET'), ('week', 'NOUN'), ('ended', 'VERB'), ('Tuesday', 'NOUN'), ('.', '.')], [('Compound', 'NOUN'), ('yields', 'NOUN'), ('assume', 'VERB'), ('reinvestment', 'NOUN'), ('of', 'ADP'), ('dividends', 'NOUN'), ('and', 'CONJ'), ('that', 'ADP'), ('the', 'DET'), ('current', 'ADJ'), ('yield', 'NOUN'), ('continues', 'VERB'), ('for', 'ADP'), ('a', 'DET'), ('year', 'NOUN'), ('.', '.')], [('Average', 'ADJ'), ('maturity', 'NOUN'), ('of', 'ADP'), ('the', 'DET'), ('funds', 'NOUN'), (\"'\", 'PRT'), ('investments', 'NOUN'), ('lengthened', 'VERB'), ('by', 'ADP'), ('a', 'DET'), ('day', 'NOUN'), ('to', 'PRT'), ('41', 'NUM'), ('days', 'NOUN'), (',', '.'), ('the', 'DET'), ('longest', 'ADJ'), ('since', 'ADP'), ('early', 'ADJ'), ('August', 'NOUN'), (',', '.'), ('according', 'VERB'), ('to', 'PRT'), ('Donoghue', 'NOUN'), (\"'s\", 'PRT'), ('.', '.')], [('Longer', 'ADJ'), ('maturities', 'NOUN'), ('are', 'VERB'), ('thought', 'VERB'), ('*-1', 'X'), ('to', 'PRT'), ('indicate', 'VERB'), ('declining', 'VERB'), ('interest', 'NOUN'), ('rates', 'NOUN'), ('because', 'ADP'), ('they', 'PRON'), ('permit', 'VERB'), ('portfolio', 'NOUN'), ('managers', 'NOUN'), ('to', 'PRT'), ('retain', 'VERB'), ('relatively', 'ADV'), ('higher', 'ADJ'), ('rates', 'NOUN'), ('for', 'ADP'), ('a', 'DET'), ('longer', 'ADJ'), ('period', 'NOUN'), ('.', '.')], [('Shorter', 'ADJ'), ('maturities', 'NOUN'), ('are', 'VERB'), ('considered', 'VERB'), ('*-9', 'X'), ('a', 'DET'), ('sign', 'NOUN'), ('of', 'ADP'), ('rising', 'VERB'), ('rates', 'NOUN'), ('because', 'ADP'), ('portfolio', 'NOUN'), ('managers', 'NOUN'), ('can', 'VERB'), ('capture', 'VERB'), ('higher', 'ADJ'), ('rates', 'NOUN'), ('sooner', 'ADV'), ('.', '.')], [('The', 'DET'), ('average', 'ADJ'), ('maturity', 'NOUN'), ('for', 'ADP'), ('funds', 'NOUN'), ('open', 'ADJ'), ('only', 'ADV'), ('to', 'PRT'), ('institutions', 'NOUN'), (',', '.'), ('considered', 'VERB'), ('by', 'ADP'), ('some', 'DET'), ('*', 'X'), ('to', 'PRT'), ('be', 'VERB'), ('a', 'DET'), ('stronger', 'ADJ'), ('indicator', 'NOUN'), ('because', 'ADP'), ('those', 'DET'), ('managers', 'NOUN'), ('watch', 'VERB'), ('the', 'DET'), ('market', 'NOUN'), ('closely', 'ADV'), (',', '.'), ('reached', 'VERB'), ('a', 'DET'), ('high', 'ADJ'), ('point', 'NOUN'), ('for', 'ADP'), ('the', 'DET'), ('year', 'NOUN'), ('--', '.'), ('33', 'NUM'), ('days', 'NOUN'), ('.', '.')]]\n"
          ],
          "name": "stdout"
        }
      ]
    },
    {
      "cell_type": "code",
      "metadata": {
        "colab": {
          "base_uri": "https://localhost:8080/"
        },
        "id": "V_Ye3yS19Pvc",
        "outputId": "9f52d006-9e65-44c7-a68c-0e454575430d"
      },
      "source": [
        "# Splitting into train and test\r\n",
        "random.seed(1234)\r\n",
        "train_set, test_set = train_test_split(wsj,test_size=0.05)\r\n",
        "\r\n",
        "print(len(train_set))\r\n",
        "print(len(test_set))\r\n",
        "print(train_set[:40])"
      ],
      "execution_count": 109,
      "outputs": [
        {
          "output_type": "stream",
          "text": [
            "3718\n",
            "196\n",
            "[[('South', 'NOUN'), ('Africa', 'NOUN'), ('accused', 'VERB'), ('armed', 'VERB'), ('Namibian', 'ADJ'), ('nationalist', 'ADJ'), ('guerrillas', 'NOUN'), ('of', 'ADP'), ('*', 'X'), ('crossing', 'VERB'), ('from', 'ADP'), ('bases', 'NOUN'), ('in', 'ADP'), ('neighboring', 'VERB'), ('Angola', 'NOUN'), (',', '.'), ('*-1', 'X'), ('violating', 'VERB'), ('U.N.-supervised', 'ADJ'), ('peace', 'NOUN'), ('plans', 'NOUN'), ('for', 'ADP'), ('the', 'DET'), ('territory', 'NOUN'), (\"'s\", 'PRT'), ('independence', 'NOUN'), ('from', 'ADP'), ('Pretoria', 'NOUN'), ('.', '.')], [('The', 'DET'), ('First', 'NOUN'), ('World', 'NOUN'), ('has', 'VERB'), ('for', 'ADP'), ('some', 'DET'), ('time', 'NOUN'), ('had', 'VERB'), ('the', 'DET'), ('bad', 'ADJ'), ('habit', 'NOUN'), ('of', 'ADP'), ('*', 'X'), ('smothering', 'VERB'), ('other', 'ADJ'), ('people', 'NOUN'), (\"'s\", 'PRT'), ('economies', 'NOUN'), ('with', 'ADP'), ('this', 'DET'), ('kind', 'NOUN'), ('of', 'ADP'), ('unfocused', 'ADJ'), ('kindness', 'NOUN'), ('.', '.')], [('This', 'DET'), ('cute', 'ADJ'), ('child', 'NOUN'), ('turns', 'VERB'), ('out', 'PRT'), ('*-1', 'X'), ('to', 'PRT'), ('be', 'VERB'), ('a', 'DET'), ('blessing', 'NOUN'), ('and', 'CONJ'), ('a', 'DET'), ('curse', 'NOUN'), ('.', '.')], [('Eaton', 'NOUN'), ('Corp.', 'NOUN'), ('said', 'VERB'), ('0', 'X'), ('it', 'PRON'), ('sold', 'VERB'), ('its', 'PRON'), ('Pacific', 'NOUN'), ('Sierra', 'NOUN'), ('Research', 'NOUN'), ('Corp.', 'NOUN'), ('unit', 'NOUN'), ('to', 'PRT'), ('a', 'DET'), ('company', 'NOUN'), ('formed', 'VERB'), ('*', 'X'), ('by', 'ADP'), ('employees', 'NOUN'), ('of', 'ADP'), ('that', 'DET'), ('unit', 'NOUN'), ('.', '.')], [('Revenue', 'NOUN'), ('rose', 'VERB'), ('42', 'NUM'), ('%', 'NOUN'), ('to', 'PRT'), ('$', '.'), ('133.7', 'NUM'), ('million', 'NUM'), ('*U*', 'X'), ('from', 'ADP'), ('$', '.'), ('94', 'NUM'), ('million', 'NUM'), ('*U*', 'X'), ('.', '.')], [('A', 'DET'), ('couple', 'NOUN'), ('of', 'ADP'), ('weeks', 'NOUN'), ('ago', 'ADP'), (',', '.'), ('I', 'PRON'), ('lost', 'VERB'), ('the', 'DET'), ('case', 'NOUN'), ('in', 'ADP'), ('federal', 'ADJ'), ('district', 'NOUN'), ('court', 'NOUN'), ('in', 'ADP'), ('Des', 'NOUN'), ('Moines', 'NOUN'), ('.', '.')], [('In', 'ADP'), ('this', 'DET'), ('era', 'NOUN'), ('of', 'ADP'), ('frantic', 'ADJ'), ('competition', 'NOUN'), ('for', 'ADP'), ('ad', 'NOUN'), ('dollars', 'NOUN'), (',', '.'), ('a', 'DET'), ('lot', 'NOUN'), ('of', 'ADP'), ('revenue-desperate', 'ADJ'), ('magazines', 'NOUN'), ('are', 'VERB'), ('getting', 'VERB'), ('pretty', 'ADV'), ('cozy', 'ADJ'), ('with', 'ADP'), ('advertisers', 'NOUN'), ('--', '.'), ('*-1', 'X'), ('fawning', 'VERB'), ('over', 'ADP'), ('them', 'PRON'), ('in', 'ADP'), ('articles', 'NOUN'), ('and', 'CONJ'), ('offering', 'VERB'), ('pages', 'NOUN'), ('of', 'ADP'), ('advertorial', 'ADJ'), ('space', 'NOUN'), ('.', '.')], [('In', 'ADP'), ('Seoul', 'NOUN'), (',', '.'), ('officials', 'NOUN'), ('began', 'VERB'), ('*-1', 'X'), ('visiting', 'VERB'), ('about', 'ADV'), ('26,000', 'NUM'), ('cigarette', 'NOUN'), ('stalls', 'NOUN'), ('*-1', 'X'), ('to', 'PRT'), ('remove', 'VERB'), ('illegal', 'ADJ'), ('posters', 'NOUN'), ('and', 'CONJ'), ('signboards', 'NOUN'), ('advertising', 'VERB'), ('imported', 'VERB'), ('cigarettes', 'NOUN'), ('.', '.')], [('This', 'DET'), ('is', 'VERB'), ('the', 'DET'), ('real', 'ADJ'), ('issue', 'NOUN'), ('raised', 'VERB'), ('*', 'X'), ('by', 'ADP'), ('the', 'DET'), ('Wedtech', 'NOUN'), ('scandal', 'NOUN'), ('.', '.')], [('China', 'NOUN'), ('pulled', 'VERB'), ('out', 'ADP'), ('of', 'ADP'), ('the', 'DET'), ('program', 'NOUN'), ('in', 'ADP'), ('July', 'NOUN'), ('.', '.')], [('Says', 'VERB'), ('*ICH*-1', 'X'), ('the', 'DET'), ('Big', 'NOUN'), ('Board', 'NOUN'), (\"'s\", 'PRT'), ('Mr.', 'NOUN'), ('Phelan', 'NOUN'), (',', '.'), ('``', '.'), ('Volatility', 'NOUN'), ('is', 'VERB'), ('greater', 'ADJ'), ('than', 'ADP'), ('program', 'NOUN'), ('trading', 'NOUN'), ('.', '.'), (\"''\", '.')], [('The', 'DET'), ('Underwood', 'NOUN'), ('family', 'NOUN'), ('said', 'VERB'), ('that', 'ADP'), ('holders', 'NOUN'), ('of', 'ADP'), ('more', 'ADJ'), ('than', 'ADP'), ('a', 'DET'), ('majority', 'NOUN'), ('of', 'ADP'), ('the', 'DET'), ('stock', 'NOUN'), ('of', 'ADP'), ('the', 'DET'), ('company', 'NOUN'), ('have', 'VERB'), ('approved', 'VERB'), ('the', 'DET'), ('transaction', 'NOUN'), ('by', 'ADP'), ('written', 'VERB'), ('consent', 'NOUN'), ('.', '.')], [('Plans', 'NOUN'), ('that', 'DET'), ('*T*-13', 'X'), ('give', 'VERB'), ('advertisers', 'NOUN'), ('discounts', 'NOUN'), ('for', 'ADP'), ('*', 'X'), ('maintaining', 'VERB'), ('or', 'CONJ'), ('increasing', 'VERB'), ('ad', 'NOUN'), ('spending', 'NOUN'), ('have', 'VERB'), ('become', 'VERB'), ('permanent', 'ADJ'), ('fixtures', 'NOUN'), ('at', 'ADP'), ('the', 'DET'), ('news', 'NOUN'), ('weeklies', 'NOUN'), ('and', 'CONJ'), ('underscore', 'VERB'), ('the', 'DET'), ('fierce', 'ADJ'), ('competition', 'NOUN'), ('between', 'ADP'), ('Newsweek', 'NOUN'), (',', '.'), ('Time', 'NOUN'), ('Warner', 'NOUN'), ('Inc.', 'NOUN'), (\"'s\", 'PRT'), ('Time', 'NOUN'), ('magazine', 'NOUN'), (',', '.'), ('and', 'CONJ'), ('Mortimer', 'NOUN'), ('B.', 'NOUN'), ('Zuckerman', 'NOUN'), (\"'s\", 'PRT'), ('U.S.', 'NOUN'), ('News', 'NOUN'), ('&', 'CONJ'), ('World', 'NOUN'), ('Report', 'NOUN'), ('.', '.')], [('The', 'DET'), ('IRS', 'NOUN'), ('warnings', 'NOUN'), ('stem', 'VERB'), ('from', 'ADP'), ('a', 'DET'), ('1984', 'NUM'), ('law', 'NOUN'), ('that', 'DET'), ('*T*-1', 'X'), ('requires', 'VERB'), ('anyone', 'NOUN'), ('who', 'PRON'), ('*T*-126', 'X'), ('receives', 'VERB'), ('more', 'ADJ'), ('than', 'ADP'), ('$', '.'), ('10,000', 'NUM'), ('*U*', 'X'), ('in', 'ADP'), ('cash', 'NOUN'), ('from', 'ADP'), ('a', 'DET'), ('client', 'NOUN'), ('or', 'CONJ'), ('customer', 'NOUN'), ('in', 'ADP'), ('one', 'NUM'), ('or', 'CONJ'), ('more', 'ADJ'), ('related', 'ADJ'), ('transactions', 'NOUN'), ('``', '.'), ('in', 'ADP'), ('the', 'DET'), ('course', 'NOUN'), ('of', 'ADP'), ('trade', 'NOUN'), ('or', 'CONJ'), ('business', 'NOUN'), (\"''\", '.'), ('to', 'PRT'), ('report', 'VERB'), ('the', 'DET'), ('payment', 'NOUN'), ('on', 'ADP'), ('a', 'DET'), ('document', 'NOUN'), ('known', 'VERB'), ('*', 'X'), ('as', 'ADP'), ('Form', 'NOUN'), ('8300', 'NUM'), ('.', '.')], [('Pictures', 'NOUN'), ('of', 'ADP'), ('rusted', 'VERB'), ('oil', 'NOUN'), ('drums', 'NOUN'), ('swim', 'VERB'), ('into', 'ADP'), ('focus', 'NOUN'), (',', '.'), ('and', 'CONJ'), ('the', 'DET'), ('female', 'ADJ'), ('voice', 'NOUN'), ('purrs', 'VERB'), (',', '.'), ('``', '.'), ('That', 'DET'), ('hazardous', 'ADJ'), ('waste', 'NOUN'), ('on', 'ADP'), ('his', 'PRON'), ('-LCB-', '.'), ('Mr.', 'NOUN'), ('Courter', 'NOUN'), (\"'s\", 'PRT'), ('-RCB-', '.'), ('property', 'NOUN'), ('--', '.'), ('the', 'DET'), ('neighbors', 'NOUN'), ('are', 'VERB'), ('suing', 'VERB'), ('for', 'ADP'), ('consumer', 'NOUN'), ('fraud', 'NOUN'), ('.', '.'), (\"''\", '.')], [('Victor', 'NOUN'), ('Stanley', 'NOUN'), ('Fishman', 'NOUN'), (',', '.'), ('Longwood', 'NOUN'), (',', '.'), ('Fla.', 'NOUN'), (',', '.'), ('fined', 'VERB'), ('*-1', 'X'), ('$', '.'), ('25,000', 'NUM'), ('*U*', 'X'), (';', '.'), ('William', 'NOUN'), ('Harold', 'NOUN'), ('Floyd', 'NOUN'), (',', '.'), ('Houston', 'NOUN'), (',', '.'), ('$', '.'), ('100,000', 'NUM'), ('*U*', 'X'), (';', '.'), ('Michael', 'NOUN'), ('Anthony', 'NOUN'), ('Houston', 'NOUN'), (',', '.'), ('Bronx', 'NOUN'), (',', '.'), ('N.Y.', 'NOUN'), (',', '.'), ('$', '.'), ('15,000', 'NUM'), ('*U*', 'X'), (';', '.'), ('Amin', 'NOUN'), ('Jalaalwalikraam', 'NOUN'), (',', '.'), ('Glenham', 'NOUN'), (',', '.'), ('N.Y.', 'NOUN'), (',', '.'), ('$', '.'), ('60,000', 'NUM'), ('*U*', 'X'), (';', '.'), ('Richard', 'NOUN'), ('F.', 'NOUN'), ('Knapp', 'NOUN'), (',', '.'), ('London', 'NOUN'), (',', '.'), ('$', '.'), ('10,000', 'NUM'), ('*U*', 'X'), ('and', 'CONJ'), ('30-day', 'ADJ'), ('suspension', 'NOUN'), (';', '.'), ('Deborah', 'NOUN'), ('Renee', 'NOUN'), ('Martin', 'NOUN'), (',', '.'), ('St.', 'NOUN'), ('Louis', 'NOUN'), (',', '.'), ('$', '.'), ('15,000', 'NUM'), ('*U*', 'X'), (';', '.'), ('Joseph', 'NOUN'), ('Francis', 'NOUN'), ('Muscolina', 'NOUN'), ('Jr.', 'NOUN'), (',', '.'), ('Palisades', 'NOUN'), ('Park', 'NOUN'), (',', '.'), ('N.J.', 'NOUN'), (',', '.'), ('$', '.'), ('15,000', 'NUM'), ('*U*', 'X'), (';', '.'), ('Robert', 'NOUN'), ('C.', 'NOUN'), ('Najarian', 'NOUN'), (',', '.'), ('Brooklyn', 'NOUN'), ('Park', 'NOUN'), (',', '.'), ('Minn.', 'NOUN'), (',', '.'), ('$', '.'), ('15,000', 'NUM'), ('*U*', 'X'), (';', '.'), ('Edward', 'NOUN'), ('Robert', 'NOUN'), ('Norwick', 'NOUN'), (',', '.'), ('Nesconset', 'NOUN'), (',', '.'), ('N.Y.', 'NOUN'), (',', '.'), ('$', '.'), ('30,000', 'NUM'), ('*U*', 'X'), ('.', '.')], [('They', 'PRON'), ('are', 'VERB'), ('still', 'ADV'), ('trying', 'VERB'), ('*-1', 'X'), ('to', 'PRT'), ('lure', 'VERB'), ('back', 'ADV'), ('small', 'ADJ'), ('investors', 'NOUN'), ('spooked', 'VERB'), ('*', 'X'), ('by', 'ADP'), ('the', 'DET'), ('1987', 'NUM'), ('stock-market', 'NOUN'), ('crash', 'NOUN'), ('and', 'CONJ'), ('the', 'DET'), ('market', 'NOUN'), (\"'s\", 'PRT'), ('swings', 'NOUN'), ('since', 'ADP'), ('then', 'ADV'), ('.', '.')], [('Dealers', 'NOUN'), ('led', 'VERB'), ('the', 'DET'), ('market', 'NOUN'), ('Wednesday', 'NOUN'), ('by', 'ADP'), ('*-1', 'X'), ('actively', 'ADV'), ('trading', 'VERB'), ('for', 'ADP'), ('their', 'PRON'), ('own', 'ADJ'), ('accounts', 'NOUN'), (',', '.'), ('observers', 'NOUN'), ('said', 'VERB'), ('0', 'X'), ('*T*-2', 'X'), ('.', '.')], [('In', 'ADP'), ('every', 'DET'), ('major', 'ADJ'), ('market', 'NOUN'), ('in', 'ADP'), ('the', 'DET'), ('U.S.', 'NOUN'), (',', '.'), ('for', 'ADP'), ('instance', 'NOUN'), (',', '.'), ('you', 'PRON'), ('can', 'VERB'), ('buy', 'VERB'), (\"'86\", 'NUM'), ('La', 'NOUN'), ('Tache', 'NOUN'), ('or', 'CONJ'), ('Richebourg', 'NOUN'), (',', '.'), ('virtually', 'ADV'), ('all', 'DET'), ('of', 'ADP'), ('the', 'DET'), ('first', 'ADJ'), ('growth', 'NOUN'), ('Bordeaux', 'NOUN'), ('-LRB-', '.'), ('except', 'ADP'), ('Petrus', 'NOUN'), ('-RRB-', '.'), (',', '.'), ('as', 'ADV'), ('well', 'ADV'), ('as', 'ADP'), ('Opus', 'NOUN'), ('One', 'NUM'), ('and', 'CONJ'), ('Dominus', 'NOUN'), ('from', 'ADP'), ('California', 'NOUN'), ('and', 'CONJ'), (',', '.'), ('at', 'ADP'), ('the', 'DET'), ('moment', 'NOUN'), (',', '.'), ('the', 'DET'), ('Stag', 'NOUN'), (\"'s\", 'PRT'), ('Leap', 'NOUN'), ('1985', 'NUM'), ('Cask', 'NOUN'), ('23', 'NUM'), ('.', '.')], [('ORTEGA', 'NOUN'), ('ENDED', 'VERB'), ('a', 'DET'), ('truce', 'NOUN'), ('with', 'ADP'), ('the', 'DET'), ('Contras', 'NOUN'), ('and', 'CONJ'), ('said', 'VERB'), ('0', 'X'), ('elections', 'NOUN'), ('were', 'VERB'), ('threatened', 'VERB'), ('*-1', 'X'), ('.', '.')], [('The', 'DET'), ('House', 'NOUN'), ('passed', 'VERB'), ('legislation', 'NOUN'), ('designed', 'VERB'), ('*', 'X'), ('to', 'PRT'), ('make', 'VERB'), ('it', 'PRON'), ('easier', 'ADJ'), ('for', 'ADP'), ('the', 'DET'), ('Transportation', 'NOUN'), ('Department', 'NOUN'), ('to', 'PRT'), ('block', 'VERB'), ('airline', 'NOUN'), ('leveraged', 'ADJ'), ('buy-outs', 'NOUN'), ('.', '.')], [('``', '.'), ('Invariably', 'ADV'), (',', '.'), ('those', 'DET'), ('strong', 'ADJ'), ('periods', 'NOUN'), ('in', 'ADP'), ('the', 'DET'), ('economy', 'NOUN'), ('give', 'VERB'), ('way', 'NOUN'), ('to', 'PRT'), ('recessionary', 'ADJ'), ('environments', 'NOUN'), (',', '.'), (\"''\", '.'), ('he', 'PRON'), ('says', 'VERB'), ('*T*-1', 'X'), ('.', '.')], [('In', 'ADP'), ('a', 'DET'), ('post-hearing', 'ADJ'), ('news', 'NOUN'), ('conference', 'NOUN'), (',', '.'), ('Mr.', 'NOUN'), ('Phelan', 'NOUN'), (',', '.'), ('who', 'PRON'), ('*T*-214', 'X'), ('has', 'VERB'), ('publicly', 'ADV'), ('expressed', 'VERB'), ('concern', 'NOUN'), ('about', 'ADP'), ('market', 'NOUN'), ('volatility', 'NOUN'), (',', '.'), ('said', 'VERB'), ('0', 'X'), ('he', 'PRON'), ('told', 'VERB'), ('the', 'DET'), ('House', 'NOUN'), ('finance', 'NOUN'), ('and', 'CONJ'), ('telecommunications', 'NOUN'), ('subcommittee', 'NOUN'), ('that', 'ADP'), ('he', 'PRON'), ('would', 'VERB'), ('support', 'VERB'), ('the', 'DET'), ('program-trading', 'ADJ'), ('halt', 'NOUN'), ('proposal', 'NOUN'), ('``', '.'), ('*', 'X'), ('providing', 'VERB'), ('0', 'X'), ('the', 'DET'), ('SEC', 'NOUN'), ('would', 'VERB'), ('be', 'VERB'), ('comfortable', 'ADJ'), ('with', 'ADP'), ('the', 'DET'), ('language', 'NOUN'), (\"''\", '.'), ('in', 'ADP'), ('a', 'DET'), ('bill', 'NOUN'), ('.', '.')], [('Although', 'ADP'), ('*-2', 'X'), ('set', 'VERB'), ('*-1', 'X'), ('in', 'ADP'), ('Japan', 'NOUN'), (',', '.'), ('the', 'DET'), ('novel', 'NOUN'), (\"'s\", 'PRT'), ('texture', 'NOUN'), ('is', 'VERB'), ('almost', 'ADV'), ('entirely', 'ADV'), ('Western', 'ADJ'), (',', '.'), ('especially', 'ADV'), ('American', 'ADJ'), ('.', '.')], [('Average', 'ADJ'), ('of', 'ADP'), ('top', 'ADJ'), ('rates', 'NOUN'), ('paid', 'VERB'), ('*', 'X'), ('by', 'ADP'), ('major', 'ADJ'), ('New', 'NOUN'), ('York', 'NOUN'), ('banks', 'NOUN'), ('on', 'ADP'), ('primary', 'ADJ'), ('new', 'ADJ'), ('issues', 'NOUN'), ('of', 'ADP'), ('negotiable', 'ADJ'), ('C.D.s', 'NOUN'), (',', '.'), ('usually', 'ADV'), ('on', 'ADP'), ('amounts', 'NOUN'), ('of', 'ADP'), ('$', '.'), ('1', 'NUM'), ('million', 'NUM'), ('and', 'CONJ'), ('more', 'ADJ'), ('*U*', 'X'), ('.', '.')], [('Gilts', 'NOUN'), (',', '.'), ('or', 'CONJ'), ('British', 'ADJ'), ('government', 'NOUN'), ('bonds', 'NOUN'), (',', '.'), ('which', 'DET'), ('*T*-60', 'X'), ('also', 'ADV'), ('fell', 'VERB'), ('sharply', 'ADV'), ('initially', 'ADV'), (',', '.'), ('retraced', 'VERB'), ('some', 'DET'), ('of', 'ADP'), ('the', 'DET'), ('losses', 'NOUN'), ('*-1', 'X'), ('to', 'PRT'), ('end', 'VERB'), ('about', 'ADP'), ('3\\\\/8', 'NUM'), ('point', 'NOUN'), ('lower', 'ADJ'), ('.', '.')], [('They', 'PRON'), ('know', 'VERB'), ('0', 'X'), ('he', 'PRON'), ('is', 'VERB'), ('generally', 'ADV'), ('opposed', 'VERB'), ('to', 'PRT'), ('cop-killer', 'ADJ'), ('bullets', 'NOUN'), (',', '.'), ('but', 'CONJ'), ('that', 'ADP'), ('he', 'PRON'), ('had', 'VERB'), ('some', 'DET'), ('reservations', 'NOUN'), ('about', 'ADP'), ('the', 'DET'), ('language', 'NOUN'), ('in', 'ADP'), ('the', 'DET'), ('legislation', 'NOUN'), ('.', '.'), (\"''\", '.')], [('To', 'PRT'), ('the', 'DET'), ('astonishment', 'NOUN'), ('and', 'CONJ'), ('dismay', 'NOUN'), ('of', 'ADP'), ('her', 'PRON'), ('superiors', 'NOUN'), ('and', 'CONJ'), ('legal', 'ADJ'), ('authorities', 'NOUN'), ('--', '.'), ('and', 'ADJ'), ('perhaps', 'ADV'), ('as', 'ADP'), ('a', 'DET'), ('measure', 'NOUN'), ('of', 'ADP'), ('the', 'DET'), ('unpopularity', 'NOUN'), ('of', 'ADP'), ('standardized', 'ADJ'), ('tests', 'NOUN'), ('--', '.'), ('Mrs', 'NOUN'), ('.', '.'), ('Yeargin', 'NOUN'), ('won', 'VERB'), ('widespread', 'ADJ'), ('local', 'ADJ'), ('support', 'NOUN'), ('.', '.')], [('The', 'DET'), ('loudest', 'ADJ'), ('of', 'ADP'), ('these', 'DET'), ('reformers', 'NOUN'), ('are', 'VERB'), ('money', 'NOUN'), ('managers', 'NOUN'), ('who', 'PRON'), ('*T*-77', 'X'), ('cater', 'VERB'), ('to', 'PRT'), ('smaller', 'ADJ'), ('investors', 'NOUN'), ('.', '.')], [('He', 'PRON'), ('contends', 'VERB'), ('that', 'ADP'), ('the', 'DET'), ('perception', 'NOUN'), ('in', 'ADP'), ('Japan', 'NOUN'), ('of', 'ADP'), ('a', 'DET'), ('vitriolic', 'ADJ'), ('U.S.', 'NOUN'), ('response', 'NOUN'), ('to', 'PRT'), ('Sony', 'NOUN'), ('Corp.', 'NOUN'), (\"'s\", 'PRT'), ('announcement', 'NOUN'), ('of', 'ADP'), ('its', 'PRON'), ('purchase', 'NOUN'), ('of', 'ADP'), ('Columbia', 'NOUN'), ('Pictures', 'NOUN'), ('Entertainment', 'NOUN'), ('Inc.', 'NOUN'), ('has', 'VERB'), ('been', 'VERB'), ('temporarily', 'ADV'), ('mollified', 'VERB'), ('*-2', 'X'), ('.', '.')], [('In', 'ADP'), ('July', 'NOUN'), (',', '.'), ('the', 'DET'), ('Environmental', 'NOUN'), ('Protection', 'NOUN'), ('Agency', 'NOUN'), ('imposed', 'VERB'), ('a', 'DET'), ('gradual', 'ADJ'), ('ban', 'NOUN'), ('on', 'ADP'), ('virtually', 'ADV'), ('all', 'DET'), ('uses', 'NOUN'), ('of', 'ADP'), ('asbestos', 'NOUN'), ('.', '.')], [('Before', 'ADP'), ('the', 'DET'), ('USX', 'NOUN'), ('case', 'NOUN'), (',', '.'), ('OSHA', 'NOUN'), (\"'s\", 'PRT'), ('largest', 'ADJ'), ('proposed', 'VERB'), ('fine', 'NOUN'), ('for', 'ADP'), ('one', 'NUM'), ('employer', 'NOUN'), ('was', 'VERB'), ('$', '.'), ('4.3', 'NUM'), ('million', 'NUM'), ('*U*', 'X'), ('for', 'ADP'), ('alleged', 'VERB'), ('safety', 'NOUN'), ('violations', 'NOUN'), ('at', 'ADP'), ('John', 'NOUN'), ('Morrell', 'NOUN'), ('&', 'CONJ'), ('Co.', 'NOUN'), (',', '.'), ('a', 'DET'), ('meatpacking', 'NOUN'), ('subsidiary', 'NOUN'), ('of', 'ADP'), ('United', 'NOUN'), ('Brands', 'NOUN'), ('Co.', 'NOUN'), (',', '.'), ('Cincinnati', 'NOUN'), ('.', '.')], [('Where', 'ADV'), ('a', 'DET'), ('bank', 'NOUN'), ('once', 'ADV'), ('offered', 'VERB'), ('a', 'DET'), ('standard', 'ADJ'), ('passbook', 'NOUN'), ('savings', 'NOUN'), ('account', 'NOUN'), ('*T*-2', 'X'), (',', '.'), ('it', 'PRON'), ('began', 'VERB'), ('*-1', 'X'), ('offering', 'VERB'), ('money-market', 'ADJ'), ('accounts', 'NOUN'), (',', '.'), ('certificates', 'NOUN'), ('of', 'ADP'), ('deposit', 'NOUN'), ('and', 'CONJ'), ('interest-bearing', 'ADJ'), ('checking', 'NOUN'), (',', '.'), ('and', 'CONJ'), ('staggering', 'ADJ'), ('rates', 'NOUN'), ('based', 'VERB'), ('on', 'ADP'), ('the', 'DET'), ('size', 'NOUN'), ('of', 'ADP'), ('deposits', 'NOUN'), ('.', '.')], [('Transamerica', 'NOUN'), ('Corp.', 'NOUN'), (',', '.'), ('San', 'NOUN'), ('Francisco', 'NOUN'), (',', '.'), ('said', 'VERB'), ('0', 'X'), ('third-quarter', 'NOUN'), ('profit', 'NOUN'), ('was', 'VERB'), ('essentially', 'ADV'), ('flat', 'ADJ'), ('despite', 'ADP'), ('a', 'DET'), ('large', 'ADJ'), ('one-time', 'ADJ'), ('gain', 'NOUN'), ('a', 'DET'), ('year', 'NOUN'), ('earlier', 'ADJ'), ('.', '.')], [('Companies', 'NOUN'), ('listed', 'VERB'), ('*', 'X'), ('below', 'ADP'), ('reported', 'VERB'), ('quarterly', 'ADJ'), ('profit', 'NOUN'), ('substantially', 'ADV'), ('different', 'ADJ'), ('from', 'ADP'), ('the', 'DET'), ('average', 'NOUN'), ('of', 'ADP'), ('analysts', 'NOUN'), (\"'\", 'PRT'), ('estimates', 'NOUN'), ('.', '.')], [('Factory', 'NOUN'), ('shipments', 'NOUN'), ('fell', 'VERB'), ('1.6', 'NUM'), ('%', 'NOUN'), ('to', 'PRT'), ('$', '.'), ('234.4', 'NUM'), ('billion', 'NUM'), ('*U*', 'X'), ('after', 'ADP'), ('*', 'X'), ('rising', 'VERB'), ('5.4', 'NUM'), ('%', 'NOUN'), ('in', 'ADP'), ('August', 'NOUN'), ('.', '.')], [('Factories', 'NOUN'), ('booked', 'VERB'), ('$', '.'), ('236.74', 'NUM'), ('billion', 'NUM'), ('*U*', 'X'), ('in', 'ADP'), ('orders', 'NOUN'), ('*ICH*-1', 'X'), ('in', 'ADP'), ('September', 'NOUN'), (',', '.'), ('nearly', 'ADV'), ('the', 'DET'), ('same', 'ADJ'), ('as', 'ADP'), ('the', 'DET'), ('$', '.'), ('236.79', 'NUM'), ('billion', 'NUM'), ('*U*', 'X'), ('in', 'ADP'), ('August', 'NOUN'), (',', '.'), ('the', 'DET'), ('Commerce', 'NOUN'), ('Department', 'NOUN'), ('said', 'VERB'), ('0', 'X'), ('*T*-2', 'X'), ('.', '.')], [('That', 'DET'), (\"'s\", 'VERB'), ('a', 'DET'), ('departure', 'NOUN'), ('from', 'ADP'), ('their', 'PRON'), ('traditional', 'ADJ'), ('practice', 'NOUN'), ('of', 'ADP'), ('*', 'X'), ('transferring', 'VERB'), ('almost', 'ADV'), ('all', 'DET'), ('financing', 'VERB'), ('risks', 'NOUN'), ('to', 'PRT'), ('investors', 'NOUN'), ('.', '.')], [('Trinity', 'NOUN'), ('said', 'VERB'), ('0', 'X'), ('it', 'PRON'), ('plans', 'VERB'), ('*-1', 'X'), ('to', 'PRT'), ('begin', 'VERB'), ('delivery', 'NOUN'), ('in', 'ADP'), ('the', 'DET'), ('first', 'ADJ'), ('quarter', 'NOUN'), ('of', 'ADP'), ('next', 'ADJ'), ('year', 'NOUN'), ('.', '.')], [('There', 'DET'), ('is', 'VERB'), ('no', 'DET'), ('asbestos', 'NOUN'), ('in', 'ADP'), ('our', 'PRON'), ('products', 'NOUN'), ('now', 'ADV'), ('.', '.'), (\"''\", '.')]]\n"
          ],
          "name": "stdout"
        }
      ]
    },
    {
      "cell_type": "code",
      "metadata": {
        "colab": {
          "base_uri": "https://localhost:8080/"
        },
        "id": "9IPEEPqE-s5u",
        "outputId": "c8962cc5-9a3e-4eca-f2a3-4cf0af029584"
      },
      "source": [
        "# Getting list of tagged words\r\n",
        "train_tagged_words = [tup for sent in train_set for tup in sent]\r\n",
        "len(train_tagged_words)"
      ],
      "execution_count": 110,
      "outputs": [
        {
          "output_type": "execute_result",
          "data": {
            "text/plain": [
              "95643"
            ]
          },
          "metadata": {
            "tags": []
          },
          "execution_count": 110
        }
      ]
    },
    {
      "cell_type": "code",
      "metadata": {
        "colab": {
          "base_uri": "https://localhost:8080/"
        },
        "id": "HOZWcqZZ-u_w",
        "outputId": "496b60eb-793a-421f-a951-0cd67541eef9"
      },
      "source": [
        "# tokens \r\n",
        "tokens = [pair[0] for pair in train_tagged_words]\r\n",
        "tokens[:10]"
      ],
      "execution_count": 111,
      "outputs": [
        {
          "output_type": "execute_result",
          "data": {
            "text/plain": [
              "['South',\n",
              " 'Africa',\n",
              " 'accused',\n",
              " 'armed',\n",
              " 'Namibian',\n",
              " 'nationalist',\n",
              " 'guerrillas',\n",
              " 'of',\n",
              " '*',\n",
              " 'crossing']"
            ]
          },
          "metadata": {
            "tags": []
          },
          "execution_count": 111
        }
      ]
    },
    {
      "cell_type": "code",
      "metadata": {
        "colab": {
          "base_uri": "https://localhost:8080/"
        },
        "id": "3lpziAgp-w-9",
        "outputId": "1ab4600a-d236-428f-e61f-bcb9a164ce85"
      },
      "source": [
        "# vocabulary\r\n",
        "V = set(tokens)\r\n",
        "print(len(V))"
      ],
      "execution_count": 112,
      "outputs": [
        {
          "output_type": "stream",
          "text": [
            "12063\n"
          ],
          "name": "stdout"
        }
      ]
    },
    {
      "cell_type": "code",
      "metadata": {
        "colab": {
          "base_uri": "https://localhost:8080/"
        },
        "id": "F02Ryvcg-y18",
        "outputId": "472b120f-163f-4076-e696-4a77b77a3837"
      },
      "source": [
        "# number of tags\r\n",
        "T = set([pair[1] for pair in train_tagged_words])\r\n",
        "len(T)"
      ],
      "execution_count": 113,
      "outputs": [
        {
          "output_type": "execute_result",
          "data": {
            "text/plain": [
              "12"
            ]
          },
          "metadata": {
            "tags": []
          },
          "execution_count": 113
        }
      ]
    },
    {
      "cell_type": "code",
      "metadata": {
        "colab": {
          "base_uri": "https://localhost:8080/"
        },
        "id": "zCk6K5q4-0nc",
        "outputId": "abf917f7-92d7-4107-e668-23bc40af59d9"
      },
      "source": [
        "print(T)"
      ],
      "execution_count": 114,
      "outputs": [
        {
          "output_type": "stream",
          "text": [
            "{'PRT', 'ADJ', 'VERB', '.', 'CONJ', 'PRON', 'NUM', 'NOUN', 'X', 'DET', 'ADP', 'ADV'}\n"
          ],
          "name": "stdout"
        }
      ]
    },
    {
      "cell_type": "markdown",
      "metadata": {
        "id": "OSnVJznN_JP0"
      },
      "source": [
        "POS Tagging Algorithm - HMM"
      ]
    },
    {
      "cell_type": "code",
      "metadata": {
        "id": "l4G5QSiw_K3U"
      },
      "source": [
        "# computing P(w/t) and storing in T x V matrix\r\n",
        "t = len(T)\r\n",
        "v = len(V)\r\n",
        "w_given_t = np.zeros((t, v))"
      ],
      "execution_count": 115,
      "outputs": []
    },
    {
      "cell_type": "code",
      "metadata": {
        "id": "siNSIfsO_Ppr"
      },
      "source": [
        "# compute word given tag: Emission Probability\r\n",
        "def word_given_tag(word, tag, train_bag = train_tagged_words):\r\n",
        "    tag_list = [pair for pair in train_bag if pair[1]==tag]\r\n",
        "    count_tag = len(tag_list)\r\n",
        "    w_given_tag_list = [pair[0] for pair in tag_list if pair[0]==word]\r\n",
        "    count_w_given_tag = len(w_given_tag_list)\r\n",
        "    \r\n",
        "    return (count_w_given_tag, count_tag)"
      ],
      "execution_count": 116,
      "outputs": []
    },
    {
      "cell_type": "code",
      "metadata": {
        "id": "sitG51e6_OFW"
      },
      "source": [
        "# compute tag given tag: tag2(t2) given tag1 (t1), i.e. Transition Probability\r\n",
        "\r\n",
        "def t2_given_t1(t2, t1, train_bag = train_tagged_words):\r\n",
        "    tags = [pair[1] for pair in train_bag]\r\n",
        "    count_t1 = len([t for t in tags if t==t1])\r\n",
        "    count_t2_t1 = 0\r\n",
        "    for index in range(len(tags)-1):\r\n",
        "        if tags[index]==t1 and tags[index+1] == t2:\r\n",
        "            count_t2_t1 += 1\r\n",
        "    return (count_t2_t1, count_t1)"
      ],
      "execution_count": 117,
      "outputs": []
    },
    {
      "cell_type": "code",
      "metadata": {
        "id": "CcsTMKjG_gMT"
      },
      "source": [
        "tags_matrix = np.zeros((len(T), len(T)), dtype='float32')\r\n",
        "for i, t1 in enumerate(list(T)):\r\n",
        "    for j, t2 in enumerate(list(T)): \r\n",
        "        tags_matrix[i, j] = t2_given_t1(t2, t1)[0]/t2_given_t1(t2, t1)[1]"
      ],
      "execution_count": 118,
      "outputs": []
    },
    {
      "cell_type": "code",
      "metadata": {
        "colab": {
          "base_uri": "https://localhost:8080/"
        },
        "id": "BlaIwd9-_iWj",
        "outputId": "885d1897-9964-4e45-83c6-96e140154c0c"
      },
      "source": [
        "tags_matrix"
      ],
      "execution_count": 119,
      "outputs": [
        {
          "output_type": "execute_result",
          "data": {
            "text/plain": [
              "array([[1.95185421e-03, 8.32791179e-02, 4.03383225e-01, 4.29407954e-02,\n",
              "        2.27716332e-03, 1.65907610e-02, 5.75796999e-02, 2.46909559e-01,\n",
              "        1.36629799e-02, 1.00195184e-01, 2.11450886e-02, 1.00845806e-02],\n",
              "       [1.01706041e-02, 6.77493438e-02, 1.21391080e-02, 6.51246756e-02,\n",
              "        1.65682416e-02, 6.56167977e-04, 2.01771650e-02, 6.99311018e-01,\n",
              "        2.06692908e-02, 5.08530205e-03, 7.75918663e-02, 4.75721806e-03],\n",
              "       [3.14655490e-02, 6.50236383e-02, 1.69572964e-01, 3.49531099e-02,\n",
              "        5.34759369e-03, 3.53406183e-02, 2.30954047e-02, 1.10904440e-01,\n",
              "        2.17701316e-01, 1.34154841e-01, 9.12965983e-02, 8.11439231e-02],\n",
              "       [2.34318664e-03, 4.48810384e-02, 8.90410990e-02, 9.37274694e-02,\n",
              "        5.85796684e-02, 6.52487352e-02, 8.09300616e-02, 2.20259547e-01,\n",
              "        2.73972601e-02, 1.73485935e-01, 9.16546509e-02, 5.23612127e-02],\n",
              "       [5.11865970e-03, 1.18659839e-01, 1.58213124e-01, 3.53652872e-02,\n",
              "        4.65332705e-04, 5.72359227e-02, 4.14146110e-02, 3.46207529e-01,\n",
              "        8.84132180e-03, 1.20986506e-01, 5.25825955e-02, 5.49092591e-02],\n",
              "       [1.31578948e-02, 7.19814226e-02, 4.88390088e-01, 4.10216711e-02,\n",
              "        5.41795650e-03, 7.73993786e-03, 7.35294120e-03, 2.07043350e-01,\n",
              "        9.28792581e-02, 8.51393212e-03, 2.28328165e-02, 3.36687304e-02],\n",
              "       [2.74903923e-02, 3.19243260e-02, 1.89181194e-02, 1.16464674e-01,\n",
              "        1.35973990e-02, 1.47797808e-03, 1.84747264e-01, 3.55305940e-01,\n",
              "        2.08690509e-01, 2.95595615e-03, 3.54714766e-02, 2.95595615e-03],\n",
              "       [4.39067110e-02, 1.24092121e-02, 1.46720678e-01, 2.39388302e-01,\n",
              "        4.25562970e-02, 4.78119636e-03, 9.59889032e-03, 2.64498711e-01,\n",
              "        2.94171311e-02, 1.33581515e-02, 1.76028326e-01, 1.73363984e-02],\n",
              "       [1.86715394e-01, 1.71619263e-02, 2.03082785e-01, 1.61925957e-01,\n",
              "        1.01700304e-02, 5.56173511e-02, 2.86032096e-03, 6.26092479e-02,\n",
              "        7.48450682e-02, 5.37104718e-02, 1.45558551e-01, 2.57428885e-02],\n",
              "       [2.41254529e-04, 2.05307603e-01, 3.98069955e-02, 1.82147156e-02,\n",
              "        4.82509058e-04, 3.49819055e-03, 2.20747888e-02, 6.37273848e-01,\n",
              "        4.52352241e-02, 5.79010835e-03, 9.40892659e-03, 1.26658622e-02],\n",
              "       [1.49588636e-03, 1.06635325e-01, 8.65477044e-03, 3.96409854e-02,\n",
              "        8.54792190e-04, 6.88107684e-02, 6.34683222e-02, 3.20547074e-01,\n",
              "        3.45122330e-02, 3.24927866e-01, 1.69889946e-02, 1.34629766e-02],\n",
              "       [1.39211137e-02, 1.30261853e-01, 3.44050378e-01, 1.32582039e-01,\n",
              "        6.29764656e-03, 1.55783892e-02, 3.18196900e-02, 3.18196900e-02,\n",
              "        2.38647666e-02, 6.96055666e-02, 1.18660919e-01, 8.15379545e-02]],\n",
              "      dtype=float32)"
            ]
          },
          "metadata": {
            "tags": []
          },
          "execution_count": 119
        }
      ]
    },
    {
      "cell_type": "code",
      "metadata": {
        "colab": {
          "base_uri": "https://localhost:8080/",
          "height": 421
        },
        "id": "Dj8UoDg2_kvl",
        "outputId": "ae36180d-a943-4d7b-df68-39bedc462e74"
      },
      "source": [
        "# convert the matrix to a df for better readability\r\n",
        "tags_df = pd.DataFrame(tags_matrix, columns = list(T), index=list(T))\r\n",
        "tags_df"
      ],
      "execution_count": 120,
      "outputs": [
        {
          "output_type": "execute_result",
          "data": {
            "text/html": [
              "<div>\n",
              "<style scoped>\n",
              "    .dataframe tbody tr th:only-of-type {\n",
              "        vertical-align: middle;\n",
              "    }\n",
              "\n",
              "    .dataframe tbody tr th {\n",
              "        vertical-align: top;\n",
              "    }\n",
              "\n",
              "    .dataframe thead th {\n",
              "        text-align: right;\n",
              "    }\n",
              "</style>\n",
              "<table border=\"1\" class=\"dataframe\">\n",
              "  <thead>\n",
              "    <tr style=\"text-align: right;\">\n",
              "      <th></th>\n",
              "      <th>PRT</th>\n",
              "      <th>ADJ</th>\n",
              "      <th>VERB</th>\n",
              "      <th>.</th>\n",
              "      <th>CONJ</th>\n",
              "      <th>PRON</th>\n",
              "      <th>NUM</th>\n",
              "      <th>NOUN</th>\n",
              "      <th>X</th>\n",
              "      <th>DET</th>\n",
              "      <th>ADP</th>\n",
              "      <th>ADV</th>\n",
              "    </tr>\n",
              "  </thead>\n",
              "  <tbody>\n",
              "    <tr>\n",
              "      <th>PRT</th>\n",
              "      <td>0.001952</td>\n",
              "      <td>0.083279</td>\n",
              "      <td>0.403383</td>\n",
              "      <td>0.042941</td>\n",
              "      <td>0.002277</td>\n",
              "      <td>0.016591</td>\n",
              "      <td>0.057580</td>\n",
              "      <td>0.246910</td>\n",
              "      <td>0.013663</td>\n",
              "      <td>0.100195</td>\n",
              "      <td>0.021145</td>\n",
              "      <td>0.010085</td>\n",
              "    </tr>\n",
              "    <tr>\n",
              "      <th>ADJ</th>\n",
              "      <td>0.010171</td>\n",
              "      <td>0.067749</td>\n",
              "      <td>0.012139</td>\n",
              "      <td>0.065125</td>\n",
              "      <td>0.016568</td>\n",
              "      <td>0.000656</td>\n",
              "      <td>0.020177</td>\n",
              "      <td>0.699311</td>\n",
              "      <td>0.020669</td>\n",
              "      <td>0.005085</td>\n",
              "      <td>0.077592</td>\n",
              "      <td>0.004757</td>\n",
              "    </tr>\n",
              "    <tr>\n",
              "      <th>VERB</th>\n",
              "      <td>0.031466</td>\n",
              "      <td>0.065024</td>\n",
              "      <td>0.169573</td>\n",
              "      <td>0.034953</td>\n",
              "      <td>0.005348</td>\n",
              "      <td>0.035341</td>\n",
              "      <td>0.023095</td>\n",
              "      <td>0.110904</td>\n",
              "      <td>0.217701</td>\n",
              "      <td>0.134155</td>\n",
              "      <td>0.091297</td>\n",
              "      <td>0.081144</td>\n",
              "    </tr>\n",
              "    <tr>\n",
              "      <th>.</th>\n",
              "      <td>0.002343</td>\n",
              "      <td>0.044881</td>\n",
              "      <td>0.089041</td>\n",
              "      <td>0.093727</td>\n",
              "      <td>0.058580</td>\n",
              "      <td>0.065249</td>\n",
              "      <td>0.080930</td>\n",
              "      <td>0.220260</td>\n",
              "      <td>0.027397</td>\n",
              "      <td>0.173486</td>\n",
              "      <td>0.091655</td>\n",
              "      <td>0.052361</td>\n",
              "    </tr>\n",
              "    <tr>\n",
              "      <th>CONJ</th>\n",
              "      <td>0.005119</td>\n",
              "      <td>0.118660</td>\n",
              "      <td>0.158213</td>\n",
              "      <td>0.035365</td>\n",
              "      <td>0.000465</td>\n",
              "      <td>0.057236</td>\n",
              "      <td>0.041415</td>\n",
              "      <td>0.346208</td>\n",
              "      <td>0.008841</td>\n",
              "      <td>0.120987</td>\n",
              "      <td>0.052583</td>\n",
              "      <td>0.054909</td>\n",
              "    </tr>\n",
              "    <tr>\n",
              "      <th>PRON</th>\n",
              "      <td>0.013158</td>\n",
              "      <td>0.071981</td>\n",
              "      <td>0.488390</td>\n",
              "      <td>0.041022</td>\n",
              "      <td>0.005418</td>\n",
              "      <td>0.007740</td>\n",
              "      <td>0.007353</td>\n",
              "      <td>0.207043</td>\n",
              "      <td>0.092879</td>\n",
              "      <td>0.008514</td>\n",
              "      <td>0.022833</td>\n",
              "      <td>0.033669</td>\n",
              "    </tr>\n",
              "    <tr>\n",
              "      <th>NUM</th>\n",
              "      <td>0.027490</td>\n",
              "      <td>0.031924</td>\n",
              "      <td>0.018918</td>\n",
              "      <td>0.116465</td>\n",
              "      <td>0.013597</td>\n",
              "      <td>0.001478</td>\n",
              "      <td>0.184747</td>\n",
              "      <td>0.355306</td>\n",
              "      <td>0.208691</td>\n",
              "      <td>0.002956</td>\n",
              "      <td>0.035471</td>\n",
              "      <td>0.002956</td>\n",
              "    </tr>\n",
              "    <tr>\n",
              "      <th>NOUN</th>\n",
              "      <td>0.043907</td>\n",
              "      <td>0.012409</td>\n",
              "      <td>0.146721</td>\n",
              "      <td>0.239388</td>\n",
              "      <td>0.042556</td>\n",
              "      <td>0.004781</td>\n",
              "      <td>0.009599</td>\n",
              "      <td>0.264499</td>\n",
              "      <td>0.029417</td>\n",
              "      <td>0.013358</td>\n",
              "      <td>0.176028</td>\n",
              "      <td>0.017336</td>\n",
              "    </tr>\n",
              "    <tr>\n",
              "      <th>X</th>\n",
              "      <td>0.186715</td>\n",
              "      <td>0.017162</td>\n",
              "      <td>0.203083</td>\n",
              "      <td>0.161926</td>\n",
              "      <td>0.010170</td>\n",
              "      <td>0.055617</td>\n",
              "      <td>0.002860</td>\n",
              "      <td>0.062609</td>\n",
              "      <td>0.074845</td>\n",
              "      <td>0.053710</td>\n",
              "      <td>0.145559</td>\n",
              "      <td>0.025743</td>\n",
              "    </tr>\n",
              "    <tr>\n",
              "      <th>DET</th>\n",
              "      <td>0.000241</td>\n",
              "      <td>0.205308</td>\n",
              "      <td>0.039807</td>\n",
              "      <td>0.018215</td>\n",
              "      <td>0.000483</td>\n",
              "      <td>0.003498</td>\n",
              "      <td>0.022075</td>\n",
              "      <td>0.637274</td>\n",
              "      <td>0.045235</td>\n",
              "      <td>0.005790</td>\n",
              "      <td>0.009409</td>\n",
              "      <td>0.012666</td>\n",
              "    </tr>\n",
              "    <tr>\n",
              "      <th>ADP</th>\n",
              "      <td>0.001496</td>\n",
              "      <td>0.106635</td>\n",
              "      <td>0.008655</td>\n",
              "      <td>0.039641</td>\n",
              "      <td>0.000855</td>\n",
              "      <td>0.068811</td>\n",
              "      <td>0.063468</td>\n",
              "      <td>0.320547</td>\n",
              "      <td>0.034512</td>\n",
              "      <td>0.324928</td>\n",
              "      <td>0.016989</td>\n",
              "      <td>0.013463</td>\n",
              "    </tr>\n",
              "    <tr>\n",
              "      <th>ADV</th>\n",
              "      <td>0.013921</td>\n",
              "      <td>0.130262</td>\n",
              "      <td>0.344050</td>\n",
              "      <td>0.132582</td>\n",
              "      <td>0.006298</td>\n",
              "      <td>0.015578</td>\n",
              "      <td>0.031820</td>\n",
              "      <td>0.031820</td>\n",
              "      <td>0.023865</td>\n",
              "      <td>0.069606</td>\n",
              "      <td>0.118661</td>\n",
              "      <td>0.081538</td>\n",
              "    </tr>\n",
              "  </tbody>\n",
              "</table>\n",
              "</div>"
            ],
            "text/plain": [
              "           PRT       ADJ      VERB  ...       DET       ADP       ADV\n",
              "PRT   0.001952  0.083279  0.403383  ...  0.100195  0.021145  0.010085\n",
              "ADJ   0.010171  0.067749  0.012139  ...  0.005085  0.077592  0.004757\n",
              "VERB  0.031466  0.065024  0.169573  ...  0.134155  0.091297  0.081144\n",
              ".     0.002343  0.044881  0.089041  ...  0.173486  0.091655  0.052361\n",
              "CONJ  0.005119  0.118660  0.158213  ...  0.120987  0.052583  0.054909\n",
              "PRON  0.013158  0.071981  0.488390  ...  0.008514  0.022833  0.033669\n",
              "NUM   0.027490  0.031924  0.018918  ...  0.002956  0.035471  0.002956\n",
              "NOUN  0.043907  0.012409  0.146721  ...  0.013358  0.176028  0.017336\n",
              "X     0.186715  0.017162  0.203083  ...  0.053710  0.145559  0.025743\n",
              "DET   0.000241  0.205308  0.039807  ...  0.005790  0.009409  0.012666\n",
              "ADP   0.001496  0.106635  0.008655  ...  0.324928  0.016989  0.013463\n",
              "ADV   0.013921  0.130262  0.344050  ...  0.069606  0.118661  0.081538\n",
              "\n",
              "[12 rows x 12 columns]"
            ]
          },
          "metadata": {
            "tags": []
          },
          "execution_count": 120
        }
      ]
    },
    {
      "cell_type": "code",
      "metadata": {
        "colab": {
          "base_uri": "https://localhost:8080/",
          "height": 700
        },
        "id": "WzlLSJdI_pYM",
        "outputId": "fdbe8c68-8320-40cc-ecf2-c9b7a176dba2"
      },
      "source": [
        "# heatmap of tags matrix\r\n",
        "# T(i, j) means P(tag j given tag i)\r\n",
        "plt.figure(figsize=(18, 12))\r\n",
        "sns.heatmap(tags_df)\r\n",
        "plt.show()\r\n"
      ],
      "execution_count": 121,
      "outputs": [
        {
          "output_type": "display_data",
          "data": {
            "image/png": "[encoded data removed]",
            "text/plain": [
              "<Figure size 1296x864 with 2 Axes>"
            ]
          },
          "metadata": {
            "tags": [],
            "needs_background": "light"
          }
        }
      ]
    },
    {
      "cell_type": "code",
      "metadata": {
        "colab": {
          "base_uri": "https://localhost:8080/",
          "height": 700
        },
        "id": "EW7VpS6M_r6D",
        "outputId": "74c7ad55-d9bc-477c-fe2e-e7d57c43eacc"
      },
      "source": [
        "tags_frequent = tags_df[tags_df>0.5]\r\n",
        "plt.figure(figsize=(18, 12))\r\n",
        "sns.heatmap(tags_frequent)\r\n",
        "plt.show()"
      ],
      "execution_count": 122,
      "outputs": [
        {
          "output_type": "display_data",
          "data": {
            "image/png": "[encoded data removed]",
            "text/plain": [
              "<Figure size 1296x864 with 2 Axes>"
            ]
          },
          "metadata": {
            "tags": [],
            "needs_background": "light"
          }
        }
      ]
    },
    {
      "cell_type": "code",
      "metadata": {
        "colab": {
          "base_uri": "https://localhost:8080/"
        },
        "id": "3k6-PfuAxzDW",
        "outputId": "7e9b98e6-7f41-4805-dac8-32fd32cd21ad"
      },
      "source": [
        "#Get the total length of tagged words in training corpus\r\n",
        "len(train_tagged_words)"
      ],
      "execution_count": 123,
      "outputs": [
        {
          "output_type": "execute_result",
          "data": {
            "text/plain": [
              "95643"
            ]
          },
          "metadata": {
            "tags": []
          },
          "execution_count": 123
        }
      ]
    },
    {
      "cell_type": "markdown",
      "metadata": {
        "id": "MQZ5S1Y6QSqA"
      },
      "source": [
        "### Build the vanilla Viterbi based POS tagger"
      ]
    },
    {
      "cell_type": "code",
      "metadata": {
        "id": "UlPBnroFA3Wz"
      },
      "source": [
        "# Viterbi Heuristic\r\n",
        "def Viterbi(words, train_bag = train_tagged_words):\r\n",
        "    state = []\r\n",
        "    T = list(set([pair[1] for pair in train_bag]))\r\n",
        "    \r\n",
        "    for key, word in enumerate(words):\r\n",
        "        #initialise list of probability column for a given observation\r\n",
        "        p = [] \r\n",
        "        for tag in T:\r\n",
        "            if key == 0:\r\n",
        "                transition_p = tags_df.loc['.', tag]\r\n",
        "            else:\r\n",
        "                transition_p = tags_df.loc[state[-1], tag]\r\n",
        "                \r\n",
        "            # compute emission and state probabilities\r\n",
        "            emission_p = word_given_tag(words[key], tag)[0]/word_given_tag(words[key], tag)[1]\r\n",
        "            state_probability = emission_p * transition_p    \r\n",
        "            p.append(state_probability)\r\n",
        "            \r\n",
        "        pmax = max(p)\r\n",
        "        # getting state for which probability is maximum\r\n",
        "        state_max = T[p.index(pmax)] \r\n",
        "        state.append(state_max)\r\n",
        "    return list(zip(words, state))"
      ],
      "execution_count": 124,
      "outputs": []
    },
    {
      "cell_type": "code",
      "metadata": {
        "id": "eQn4DKtLQSqB",
        "colab": {
          "base_uri": "https://localhost:8080/"
        },
        "outputId": "6c89b47a-7401-4b4f-fb3e-1844b82fc249"
      },
      "source": [
        "# Running on entire test dataset would take more than 3-4hrs. \r\n",
        "# Let's test our Viterbi algorithm on a few sample sentences of test dataset\r\n",
        "\r\n",
        "random.seed(1234)\r\n",
        "\r\n",
        "# choose random 5 sents\r\n",
        "rndom = [random.randint(1,len(test_set)) for x in range(5)]\r\n",
        "\r\n",
        "# list of sents\r\n",
        "test_run = [test_set[i] for i in rndom]\r\n",
        "\r\n",
        "# list of tagged words\r\n",
        "test_run_base = [tup for sent in test_run for tup in sent]\r\n",
        "\r\n",
        "# list of untagged words\r\n",
        "test_tagged_words = [tup[0] for sent in test_run for tup in sent]\r\n",
        "test_run"
      ],
      "execution_count": 125,
      "outputs": [
        {
          "output_type": "execute_result",
          "data": {
            "text/plain": [
              "[[('How', 'ADV'),\n",
              "  (\"'s\", 'VERB'),\n",
              "  ('that', 'DET'),\n",
              "  ('*T*-1', 'X'),\n",
              "  ('again', 'ADV'),\n",
              "  ('?', '.')],\n",
              " [('Bob', 'NOUN'),\n",
              "  ('has', 'VERB'),\n",
              "  ('an', 'DET'),\n",
              "  ('agenda', 'NOUN'),\n",
              "  ('and', 'CONJ'),\n",
              "  ('this', 'DET'),\n",
              "  ('seemed', 'VERB'),\n",
              "  ('like', 'ADP'),\n",
              "  ('the', 'DET'),\n",
              "  ('natural', 'ADJ'),\n",
              "  ('time', 'NOUN'),\n",
              "  ('.', '.'),\n",
              "  (\"''\", '.')],\n",
              " [('The', 'DET'),\n",
              "  ('U.S.', 'NOUN'),\n",
              "  ('and', 'CONJ'),\n",
              "  ('Soviet', 'NOUN'),\n",
              "  ('Union', 'NOUN'),\n",
              "  ('are', 'VERB'),\n",
              "  ('holding', 'VERB'),\n",
              "  ('technical', 'ADJ'),\n",
              "  ('talks', 'NOUN'),\n",
              "  ('about', 'ADP'),\n",
              "  ('possible', 'ADJ'),\n",
              "  ('repayment', 'NOUN'),\n",
              "  ('by', 'ADP'),\n",
              "  ('Moscow', 'NOUN'),\n",
              "  ('of', 'ADP'),\n",
              "  ('$', '.'),\n",
              "  ('188', 'NUM'),\n",
              "  ('million', 'NUM'),\n",
              "  ('*U*', 'X'),\n",
              "  ('in', 'ADP'),\n",
              "  ('pre-Communist', 'ADJ'),\n",
              "  ('Russian', 'ADJ'),\n",
              "  ('debts', 'NOUN'),\n",
              "  ('owed', 'VERB'),\n",
              "  ('*', 'X'),\n",
              "  ('to', 'PRT'),\n",
              "  ('the', 'DET'),\n",
              "  ('U.S.', 'NOUN'),\n",
              "  ('government', 'NOUN'),\n",
              "  (',', '.'),\n",
              "  ('the', 'DET'),\n",
              "  ('State', 'NOUN'),\n",
              "  ('Department', 'NOUN'),\n",
              "  ('said', 'VERB'),\n",
              "  ('0', 'X'),\n",
              "  ('*T*-2', 'X'),\n",
              "  ('.', '.')],\n",
              " [('It', 'PRON'),\n",
              "  (\"'s\", 'VERB'),\n",
              "  ('hardly', 'ADV'),\n",
              "  ('a', 'DET'),\n",
              "  ('question', 'NOUN'),\n",
              "  ('of', 'ADP'),\n",
              "  ('quality', 'NOUN'),\n",
              "  ('--', '.'),\n",
              "  ('the', 'NUM'),\n",
              "  ('1982', 'NUM'),\n",
              "  ('Salon', 'NOUN'),\n",
              "  ('is', 'VERB'),\n",
              "  ('a', 'DET'),\n",
              "  ('beautiful', 'ADJ'),\n",
              "  ('wine', 'NOUN'),\n",
              "  (',', '.'),\n",
              "  ('but', 'CONJ'),\n",
              "  (',', '.'),\n",
              "  ('as', 'ADP'),\n",
              "  ('Mr.', 'NOUN'),\n",
              "  ('Pratt', 'NOUN'),\n",
              "  ('noted', 'VERB'),\n",
              "  ('0', 'X'),\n",
              "  ('*T*-1', 'X'),\n",
              "  (',', '.'),\n",
              "  ('people', 'NOUN'),\n",
              "  ('have', 'VERB'),\n",
              "  ('their', 'PRON'),\n",
              "  ('own', 'ADJ'),\n",
              "  ('ideas', 'NOUN'),\n",
              "  ('about', 'ADP'),\n",
              "  ('value', 'NOUN'),\n",
              "  ('.', '.')],\n",
              " [('In', 'ADP'),\n",
              "  ('the', 'DET'),\n",
              "  ('year-ago', 'ADJ'),\n",
              "  ('quarter', 'NOUN'),\n",
              "  (',', '.'),\n",
              "  ('the', 'DET'),\n",
              "  ('company', 'NOUN'),\n",
              "  ('reported', 'VERB'),\n",
              "  ('net', 'ADJ'),\n",
              "  ('income', 'NOUN'),\n",
              "  ('of', 'ADP'),\n",
              "  ('$', '.'),\n",
              "  ('1.9', 'NUM'),\n",
              "  ('million', 'NUM'),\n",
              "  ('*U*', 'X'),\n",
              "  (',', '.'),\n",
              "  ('or', 'CONJ'),\n",
              "  ('29', 'NUM'),\n",
              "  ('cents', 'NOUN'),\n",
              "  ('a', 'DET'),\n",
              "  ('share', 'NOUN'),\n",
              "  ('.', '.')]]"
            ]
          },
          "metadata": {
            "tags": []
          },
          "execution_count": 125
        }
      ]
    },
    {
      "cell_type": "code",
      "metadata": {
        "colab": {
          "base_uri": "https://localhost:8080/"
        },
        "id": "uRiAj95DA_lY",
        "outputId": "b5026202-6090-4720-d400-7fcf296eabfd"
      },
      "source": [
        "# tagging the test sentences\r\n",
        "start = time.time()\r\n",
        "tagged_seq = Viterbi(test_tagged_words)\r\n",
        "end = time.time()\r\n",
        "difference = end-start\r\n",
        "print(\"Time taken in seconds: \", difference)\r\n",
        "print(tagged_seq)\r\n",
        "#print(test_run_base)"
      ],
      "execution_count": 126,
      "outputs": [
        {
          "output_type": "stream",
          "text": [
            "Time taken in seconds:  26.01344585418701\n",
            "[('How', 'ADV'), (\"'s\", 'PRT'), ('that', 'DET'), ('*T*-1', 'X'), ('again', 'ADV'), ('?', '.'), ('Bob', 'NOUN'), ('has', 'VERB'), ('an', 'DET'), ('agenda', 'NOUN'), ('and', 'CONJ'), ('this', 'DET'), ('seemed', 'VERB'), ('like', 'ADP'), ('the', 'DET'), ('natural', 'ADJ'), ('time', 'NOUN'), ('.', '.'), (\"''\", '.'), ('The', 'DET'), ('U.S.', 'NOUN'), ('and', 'CONJ'), ('Soviet', 'ADJ'), ('Union', 'NOUN'), ('are', 'VERB'), ('holding', 'VERB'), ('technical', 'ADJ'), ('talks', 'NOUN'), ('about', 'ADP'), ('possible', 'ADJ'), ('repayment', 'PRT'), ('by', 'ADP'), ('Moscow', 'NOUN'), ('of', 'ADP'), ('$', '.'), ('188', 'NUM'), ('million', 'NUM'), ('*U*', 'X'), ('in', 'ADP'), ('pre-Communist', 'PRT'), ('Russian', 'PRT'), ('debts', 'NOUN'), ('owed', 'VERB'), ('*', 'X'), ('to', 'PRT'), ('the', 'DET'), ('U.S.', 'NOUN'), ('government', 'NOUN'), (',', '.'), ('the', 'DET'), ('State', 'NOUN'), ('Department', 'NOUN'), ('said', 'VERB'), ('0', 'X'), ('*T*-2', 'X'), ('.', '.'), ('It', 'PRON'), (\"'s\", 'VERB'), ('hardly', 'ADV'), ('a', 'DET'), ('question', 'NOUN'), ('of', 'ADP'), ('quality', 'NOUN'), ('--', '.'), ('the', 'DET'), ('1982', 'NUM'), ('Salon', 'NOUN'), ('is', 'VERB'), ('a', 'DET'), ('beautiful', 'ADJ'), ('wine', 'NOUN'), (',', '.'), ('but', 'CONJ'), (',', '.'), ('as', 'ADP'), ('Mr.', 'NOUN'), ('Pratt', 'NOUN'), ('noted', 'VERB'), ('0', 'X'), ('*T*-1', 'X'), (',', '.'), ('people', 'NOUN'), ('have', 'VERB'), ('their', 'PRON'), ('own', 'ADJ'), ('ideas', 'NOUN'), ('about', 'ADP'), ('value', 'NOUN'), ('.', '.'), ('In', 'ADP'), ('the', 'DET'), ('year-ago', 'ADJ'), ('quarter', 'NOUN'), (',', '.'), ('the', 'DET'), ('company', 'NOUN'), ('reported', 'VERB'), ('net', 'ADJ'), ('income', 'NOUN'), ('of', 'ADP'), ('$', '.'), ('1.9', 'PRT'), ('million', 'NUM'), ('*U*', 'X'), (',', '.'), ('or', 'CONJ'), ('29', 'NUM'), ('cents', 'NOUN'), ('a', 'DET'), ('share', 'NOUN'), ('.', '.')]\n"
          ],
          "name": "stdout"
        }
      ]
    },
    {
      "cell_type": "code",
      "metadata": {
        "colab": {
          "base_uri": "https://localhost:8080/"
        },
        "id": "tyerVlEpyO3l",
        "outputId": "231da9ec-0178-4889-9658-66093bf776b8"
      },
      "source": [
        "\r\n",
        "# Get accuracy of model\r\n",
        "check = [i for i, j in zip(tagged_seq, test_run_base) if i == j] \r\n",
        "accuracy = len(check)/len(tagged_seq)\r\n",
        "print(round(accuracy*100,2),\"%\")"
      ],
      "execution_count": 127,
      "outputs": [
        {
          "output_type": "stream",
          "text": [
            "93.69 %\n"
          ],
          "name": "stdout"
        }
      ]
    },
    {
      "cell_type": "code",
      "metadata": {
        "colab": {
          "base_uri": "https://localhost:8080/"
        },
        "id": "wNVIKhoMyUP0",
        "outputId": "f5562b96-234c-41f4-8685-3d4466afbed2"
      },
      "source": [
        "import urllib.request\r\n",
        "\r\n",
        "lines=[]\r\n",
        "for line in urllib.request.urlopen('https://cdn.upgrad.com/UpGrad/temp/9dca5f3b-53c3-47e1-86d5-5ec5dafad6f0/Test_sentences.txt'):\r\n",
        "    line=str(line)[2:-5] # Removing the junk characters\r\n",
        "    if(len(line)>0):\r\n",
        "      print(line)\r\n",
        "      lines.append(line)"
      ],
      "execution_count": 128,
      "outputs": [
        {
          "output_type": "stream",
          "text": [
            "Android is a mobile operating system developed by Google.\n",
            "Android has been the best-selling OS worldwide on smartphones since 2011 and on tablets since 2013.\n",
            "Google and Twitter made a deal in 2015 that gave Google access to Twitter's firehose.\n",
            "Twitter is an online news and social networking service on which users post and interact with messages known as tweets.\n",
            "Before entering politics, Donald Trump was a domineering businessman and a television personality.\n",
            "The 2018 FIFA World Cup is the 21st FIFA World Cup, an international football tournament contested once every four years.\n",
            "This is the first World Cup to be held in Eastern Europe and the 11th time that it has been held in Europe.\n",
            "Show me the cheapest round trips from Dallas to Atlanta\n",
            "I would like to see flights from Denver to Philadelphia.\n",
            "Show me the price of the flights leaving Atlanta at about 3 in the afternoon and arriving in San Francisco.\n",
            "NASA invited social media users to experience the launch of ICESAT-2 Satellite.\n"
          ],
          "name": "stdout"
        }
      ]
    },
    {
      "cell_type": "markdown",
      "metadata": {
        "id": "8uTh2n2AQSqC"
      },
      "source": [
        "### Solve the problem of unknown words"
      ]
    },
    {
      "cell_type": "code",
      "metadata": {
        "id": "EFYE9SikQSqD"
      },
      "source": [
        "lines\r\n",
        "test_lines=lines"
      ],
      "execution_count": 129,
      "outputs": []
    },
    {
      "cell_type": "code",
      "metadata": {
        "colab": {
          "base_uri": "https://localhost:8080/"
        },
        "id": "1FY3jYwX5Xeo",
        "outputId": "a0ff7a5e-49f6-4be7-be5a-b441404c52bb"
      },
      "source": [
        "#Get the words in the test set which are incorrectly classified\r\n",
        "incorrect_tagged_cases = [[test_run_base[i-1],j] for i, j in enumerate(zip(tagged_seq, test_run_base)) if j[0]!=j[1]]\r\n",
        "incorrect_tagged_cases"
      ],
      "execution_count": 130,
      "outputs": [
        {
          "output_type": "execute_result",
          "data": {
            "text/plain": [
              "[[('How', 'ADV'), ((\"'s\", 'PRT'), (\"'s\", 'VERB'))],\n",
              " [('and', 'CONJ'), (('Soviet', 'ADJ'), ('Soviet', 'NOUN'))],\n",
              " [('possible', 'ADJ'), (('repayment', 'PRT'), ('repayment', 'NOUN'))],\n",
              " [('in', 'ADP'), (('pre-Communist', 'PRT'), ('pre-Communist', 'ADJ'))],\n",
              " [('pre-Communist', 'ADJ'), (('Russian', 'PRT'), ('Russian', 'ADJ'))],\n",
              " [('--', '.'), (('the', 'DET'), ('the', 'NUM'))],\n",
              " [('$', '.'), (('1.9', 'PRT'), ('1.9', 'NUM'))]]"
            ]
          },
          "metadata": {
            "tags": []
          },
          "execution_count": 130
        }
      ]
    },
    {
      "cell_type": "code",
      "metadata": {
        "colab": {
          "base_uri": "https://localhost:8080/"
        },
        "id": "Qyo2jGb-5gg1",
        "outputId": "ad74dd0a-9e83-4761-bcd0-ef7a2e3a657b"
      },
      "source": [
        "nltk.download('punkt')\r\n",
        "#Get the predictions on the test sentences\r\n",
        "sample_pred_list =[]\r\n",
        "for line in test_lines:\r\n",
        "    sample_pred_list=sample_pred_list+list(Viterbi(word_tokenize(line)))\r\n",
        "sample_pred_list"
      ],
      "execution_count": 131,
      "outputs": [
        {
          "output_type": "stream",
          "text": [
            "[nltk_data] Downloading package punkt to /root/nltk_data...\n",
            "[nltk_data]   Package punkt is already up-to-date!\n"
          ],
          "name": "stdout"
        },
        {
          "output_type": "execute_result",
          "data": {
            "text/plain": [
              "[('Android', 'PRT'),\n",
              " ('is', 'VERB'),\n",
              " ('a', 'DET'),\n",
              " ('mobile', 'ADJ'),\n",
              " ('operating', 'NOUN'),\n",
              " ('system', 'NOUN'),\n",
              " ('developed', 'VERB'),\n",
              " ('by', 'ADP'),\n",
              " ('Google', 'PRT'),\n",
              " ('.', '.'),\n",
              " ('Android', 'PRT'),\n",
              " ('has', 'VERB'),\n",
              " ('been', 'VERB'),\n",
              " ('the', 'DET'),\n",
              " ('best-selling', 'ADJ'),\n",
              " ('OS', 'PRT'),\n",
              " ('worldwide', 'PRT'),\n",
              " ('on', 'ADP'),\n",
              " ('smartphones', 'PRT'),\n",
              " ('since', 'ADP'),\n",
              " ('2011', 'PRT'),\n",
              " ('and', 'CONJ'),\n",
              " ('on', 'ADP'),\n",
              " ('tablets', 'NOUN'),\n",
              " ('since', 'ADP'),\n",
              " ('2013', 'PRT'),\n",
              " ('.', '.'),\n",
              " ('Google', 'PRT'),\n",
              " ('and', 'CONJ'),\n",
              " ('Twitter', 'PRT'),\n",
              " ('made', 'VERB'),\n",
              " ('a', 'DET'),\n",
              " ('deal', 'NOUN'),\n",
              " ('in', 'ADP'),\n",
              " ('2015', 'PRT'),\n",
              " ('that', 'DET'),\n",
              " ('gave', 'VERB'),\n",
              " ('Google', 'PRT'),\n",
              " ('access', 'NOUN'),\n",
              " ('to', 'PRT'),\n",
              " ('Twitter', 'PRT'),\n",
              " (\"'s\", 'VERB'),\n",
              " ('firehose', 'PRT'),\n",
              " ('.', '.'),\n",
              " ('Twitter', 'PRT'),\n",
              " ('is', 'VERB'),\n",
              " ('an', 'DET'),\n",
              " ('online', 'PRT'),\n",
              " ('news', 'NOUN'),\n",
              " ('and', 'CONJ'),\n",
              " ('social', 'ADJ'),\n",
              " ('networking', 'NOUN'),\n",
              " ('service', 'NOUN'),\n",
              " ('on', 'ADP'),\n",
              " ('which', 'DET'),\n",
              " ('users', 'NOUN'),\n",
              " ('post', 'NOUN'),\n",
              " ('and', 'CONJ'),\n",
              " ('interact', 'PRT'),\n",
              " ('with', 'ADP'),\n",
              " ('messages', 'PRT'),\n",
              " ('known', 'VERB'),\n",
              " ('as', 'ADP'),\n",
              " ('tweets', 'PRT'),\n",
              " ('.', '.'),\n",
              " ('Before', 'ADP'),\n",
              " ('entering', 'VERB'),\n",
              " ('politics', 'NOUN'),\n",
              " (',', '.'),\n",
              " ('Donald', 'NOUN'),\n",
              " ('Trump', 'NOUN'),\n",
              " ('was', 'VERB'),\n",
              " ('a', 'DET'),\n",
              " ('domineering', 'PRT'),\n",
              " ('businessman', 'NOUN'),\n",
              " ('and', 'CONJ'),\n",
              " ('a', 'DET'),\n",
              " ('television', 'NOUN'),\n",
              " ('personality', 'PRT'),\n",
              " ('.', '.'),\n",
              " ('The', 'DET'),\n",
              " ('2018', 'PRT'),\n",
              " ('FIFA', 'PRT'),\n",
              " ('World', 'NOUN'),\n",
              " ('Cup', 'PRT'),\n",
              " ('is', 'VERB'),\n",
              " ('the', 'DET'),\n",
              " ('21st', 'PRT'),\n",
              " ('FIFA', 'PRT'),\n",
              " ('World', 'NOUN'),\n",
              " ('Cup', 'PRT'),\n",
              " (',', '.'),\n",
              " ('an', 'DET'),\n",
              " ('international', 'ADJ'),\n",
              " ('football', 'NOUN'),\n",
              " ('tournament', 'PRT'),\n",
              " ('contested', 'PRT'),\n",
              " ('once', 'ADV'),\n",
              " ('every', 'DET'),\n",
              " ('four', 'NUM'),\n",
              " ('years', 'NOUN'),\n",
              " ('.', '.'),\n",
              " ('This', 'DET'),\n",
              " ('is', 'VERB'),\n",
              " ('the', 'DET'),\n",
              " ('first', 'ADJ'),\n",
              " ('World', 'NOUN'),\n",
              " ('Cup', 'PRT'),\n",
              " ('to', 'PRT'),\n",
              " ('be', 'VERB'),\n",
              " ('held', 'VERB'),\n",
              " ('in', 'ADP'),\n",
              " ('Eastern', 'NOUN'),\n",
              " ('Europe', 'NOUN'),\n",
              " ('and', 'CONJ'),\n",
              " ('the', 'DET'),\n",
              " ('11th', 'ADJ'),\n",
              " ('time', 'NOUN'),\n",
              " ('that', 'ADP'),\n",
              " ('it', 'PRON'),\n",
              " ('has', 'VERB'),\n",
              " ('been', 'VERB'),\n",
              " ('held', 'VERB'),\n",
              " ('in', 'ADP'),\n",
              " ('Europe', 'NOUN'),\n",
              " ('.', '.'),\n",
              " ('Show', 'NOUN'),\n",
              " ('me', 'PRON'),\n",
              " ('the', 'DET'),\n",
              " ('cheapest', 'ADJ'),\n",
              " ('round', 'NOUN'),\n",
              " ('trips', 'PRT'),\n",
              " ('from', 'ADP'),\n",
              " ('Dallas', 'NOUN'),\n",
              " ('to', 'PRT'),\n",
              " ('Atlanta', 'NOUN'),\n",
              " ('I', 'PRON'),\n",
              " ('would', 'VERB'),\n",
              " ('like', 'ADP'),\n",
              " ('to', 'PRT'),\n",
              " ('see', 'VERB'),\n",
              " ('flights', 'NOUN'),\n",
              " ('from', 'ADP'),\n",
              " ('Denver', 'NOUN'),\n",
              " ('to', 'PRT'),\n",
              " ('Philadelphia', 'NOUN'),\n",
              " ('.', '.'),\n",
              " ('Show', 'NOUN'),\n",
              " ('me', 'PRON'),\n",
              " ('the', 'DET'),\n",
              " ('price', 'NOUN'),\n",
              " ('of', 'ADP'),\n",
              " ('the', 'DET'),\n",
              " ('flights', 'NOUN'),\n",
              " ('leaving', 'VERB'),\n",
              " ('Atlanta', 'NOUN'),\n",
              " ('at', 'ADP'),\n",
              " ('about', 'ADP'),\n",
              " ('3', 'NUM'),\n",
              " ('in', 'ADP'),\n",
              " ('the', 'DET'),\n",
              " ('afternoon', 'NOUN'),\n",
              " ('and', 'CONJ'),\n",
              " ('arriving', 'PRT'),\n",
              " ('in', 'ADP'),\n",
              " ('San', 'NOUN'),\n",
              " ('Francisco', 'NOUN'),\n",
              " ('.', '.'),\n",
              " ('NASA', 'PRT'),\n",
              " ('invited', 'PRT'),\n",
              " ('social', 'ADJ'),\n",
              " ('media', 'NOUN'),\n",
              " ('users', 'NOUN'),\n",
              " ('to', 'PRT'),\n",
              " ('experience', 'NOUN'),\n",
              " ('the', 'DET'),\n",
              " ('launch', 'NOUN'),\n",
              " ('of', 'ADP'),\n",
              " ('ICESAT-2', 'PRT'),\n",
              " ('Satellite', 'PRT'),\n",
              " ('.', '.')]"
            ]
          },
          "metadata": {
            "tags": []
          },
          "execution_count": 131
        }
      ]
    },
    {
      "cell_type": "code",
      "metadata": {
        "id": "OyJhg341lygK"
      },
      "source": [
        "#Get the tokens in the test file\r\n",
        "sample_words=[tokens for line in test_lines for tokens in word_tokenize(line)]"
      ],
      "execution_count": 132,
      "outputs": []
    },
    {
      "cell_type": "code",
      "metadata": {
        "colab": {
          "base_uri": "https://localhost:8080/"
        },
        "id": "kW-ixz_Plz6y",
        "outputId": "7d12cb2c-3211-4757-bba4-c92bfb285181"
      },
      "source": [
        "\r\n",
        "#Get the list of words which are present in test lines but not in the training corpus\r\n",
        "words_not_in_corpus = list(set(sample_words) - set(tokens))\r\n",
        "words_not_in_corpus"
      ],
      "execution_count": 133,
      "outputs": [
        {
          "output_type": "execute_result",
          "data": {
            "text/plain": [
              "['21st',\n",
              " 'domineering',\n",
              " 'trips',\n",
              " 'Google',\n",
              " 'OS',\n",
              " 'invited',\n",
              " '2015',\n",
              " 'ICESAT-2',\n",
              " 'arriving',\n",
              " 'messages',\n",
              " 'tournament',\n",
              " '2018',\n",
              " 'firehose',\n",
              " 'NASA',\n",
              " 'Twitter',\n",
              " 'personality',\n",
              " '2013',\n",
              " 'online',\n",
              " 'worldwide',\n",
              " 'smartphones',\n",
              " 'interact',\n",
              " 'FIFA',\n",
              " '2011',\n",
              " 'tweets',\n",
              " 'contested',\n",
              " 'Satellite',\n",
              " 'Android',\n",
              " 'Cup']"
            ]
          },
          "metadata": {
            "tags": []
          },
          "execution_count": 133
        }
      ]
    },
    {
      "cell_type": "code",
      "metadata": {
        "colab": {
          "base_uri": "https://localhost:8080/"
        },
        "id": "Z1Cv6PqSl7Bu",
        "outputId": "3186248c-b548-488d-9e3f-9ca6baa39e30"
      },
      "source": [
        "\r\n",
        "#Get the tags predicted for unknown words\r\n",
        "[tup for tup in sample_pred_list for word in words_not_in_corpus if tup[0]==word ]\r\n"
      ],
      "execution_count": 134,
      "outputs": [
        {
          "output_type": "execute_result",
          "data": {
            "text/plain": [
              "[('Android', 'PRT'),\n",
              " ('Google', 'PRT'),\n",
              " ('Android', 'PRT'),\n",
              " ('OS', 'PRT'),\n",
              " ('worldwide', 'PRT'),\n",
              " ('smartphones', 'PRT'),\n",
              " ('2011', 'PRT'),\n",
              " ('2013', 'PRT'),\n",
              " ('Google', 'PRT'),\n",
              " ('Twitter', 'PRT'),\n",
              " ('2015', 'PRT'),\n",
              " ('Google', 'PRT'),\n",
              " ('Twitter', 'PRT'),\n",
              " ('firehose', 'PRT'),\n",
              " ('Twitter', 'PRT'),\n",
              " ('online', 'PRT'),\n",
              " ('interact', 'PRT'),\n",
              " ('messages', 'PRT'),\n",
              " ('tweets', 'PRT'),\n",
              " ('domineering', 'PRT'),\n",
              " ('personality', 'PRT'),\n",
              " ('2018', 'PRT'),\n",
              " ('FIFA', 'PRT'),\n",
              " ('Cup', 'PRT'),\n",
              " ('21st', 'PRT'),\n",
              " ('FIFA', 'PRT'),\n",
              " ('Cup', 'PRT'),\n",
              " ('tournament', 'PRT'),\n",
              " ('contested', 'PRT'),\n",
              " ('Cup', 'PRT'),\n",
              " ('trips', 'PRT'),\n",
              " ('arriving', 'PRT'),\n",
              " ('NASA', 'PRT'),\n",
              " ('invited', 'PRT'),\n",
              " ('ICESAT-2', 'PRT'),\n",
              " ('Satellite', 'PRT')]"
            ]
          },
          "metadata": {
            "tags": []
          },
          "execution_count": 134
        }
      ]
    },
    {
      "cell_type": "markdown",
      "metadata": {
        "id": "cmcP5DxJwiuQ"
      },
      "source": [
        "The words which are not in courpos are tagged as PRT ( participles ) becuase ther is no calculation for prior probabaility"
      ]
    },
    {
      "cell_type": "code",
      "metadata": {
        "colab": {
          "base_uri": "https://localhost:8080/"
        },
        "id": "n8L5ga2el-6R",
        "outputId": "f7c6818f-be30-4a1b-b0d2-4b44bcaa3c4c"
      },
      "source": [
        "\r\n",
        "#Let us see the count of all tags in the training set\r\n",
        "from collections import Counter\r\n",
        "tag_counts = Counter(pair[1] for pair in train_tagged_words)\r\n",
        "tag_counts"
      ],
      "execution_count": 135,
      "outputs": [
        {
          "output_type": "execute_result",
          "data": {
            "text/plain": [
              "Counter({'.': 11096,\n",
              "         'ADJ': 6096,\n",
              "         'ADP': 9359,\n",
              "         'ADV': 3017,\n",
              "         'CONJ': 2149,\n",
              "         'DET': 8290,\n",
              "         'NOUN': 27399,\n",
              "         'NUM': 3383,\n",
              "         'PRON': 2584,\n",
              "         'PRT': 3074,\n",
              "         'VERB': 12903,\n",
              "         'X': 6293})"
            ]
          },
          "metadata": {
            "tags": []
          },
          "execution_count": 135
        }
      ]
    },
    {
      "cell_type": "code",
      "metadata": {
        "colab": {
          "base_uri": "https://localhost:8080/"
        },
        "id": "aNLTo47FmDFJ",
        "outputId": "f4e1c4ca-4925-428c-a5b0-fd6f0020b2fc"
      },
      "source": [
        "# see most common tags can in the training corpus\r\n",
        "tag_counts.most_common(5)"
      ],
      "execution_count": 136,
      "outputs": [
        {
          "output_type": "execute_result",
          "data": {
            "text/plain": [
              "[('NOUN', 27399), ('VERB', 12903), ('.', 11096), ('ADP', 9359), ('DET', 8290)]"
            ]
          },
          "metadata": {
            "tags": []
          },
          "execution_count": 136
        }
      ]
    },
    {
      "cell_type": "code",
      "metadata": {
        "colab": {
          "base_uri": "https://localhost:8080/"
        },
        "id": "_aJ5w57SmHma",
        "outputId": "ea4411e9-edc2-4db1-9258-a20befb7376a"
      },
      "source": [
        "#Lets see count of incorrectly classfied words for each tag\r\n",
        "wrong_tag_counts = Counter(pair[1][0][1] for pair in incorrect_tagged_cases)\r\n",
        "wrong_tag_counts"
      ],
      "execution_count": 137,
      "outputs": [
        {
          "output_type": "execute_result",
          "data": {
            "text/plain": [
              "Counter({'ADJ': 1, 'DET': 1, 'PRT': 5})"
            ]
          },
          "metadata": {
            "tags": []
          },
          "execution_count": 137
        }
      ]
    },
    {
      "cell_type": "code",
      "metadata": {
        "colab": {
          "base_uri": "https://localhost:8080/"
        },
        "id": "pIUDbYP6mKGz",
        "outputId": "f5a8ee22-f7d3-4b56-9113-e2c8e0c5e67d"
      },
      "source": [
        "\r\n",
        "# Let us see the percentage of verbs which are classifed as 'verb which end with 'ed'\r\n",
        "verbs = [pair for pair in train_tagged_words if pair[1]=='VERB']\r\n",
        "ed_verbs = [pair for pair in verbs if pair[0].endswith('ed')]\r\n",
        "print(len(ed_verbs) / len(verbs))\r\n",
        "ed_verbs[:20]"
      ],
      "execution_count": 138,
      "outputs": [
        {
          "output_type": "stream",
          "text": [
            "0.2076261334573355\n"
          ],
          "name": "stdout"
        },
        {
          "output_type": "execute_result",
          "data": {
            "text/plain": [
              "[('accused', 'VERB'),\n",
              " ('armed', 'VERB'),\n",
              " ('formed', 'VERB'),\n",
              " ('imported', 'VERB'),\n",
              " ('raised', 'VERB'),\n",
              " ('pulled', 'VERB'),\n",
              " ('approved', 'VERB'),\n",
              " ('rusted', 'VERB'),\n",
              " ('fined', 'VERB'),\n",
              " ('spooked', 'VERB'),\n",
              " ('led', 'VERB'),\n",
              " ('threatened', 'VERB'),\n",
              " ('passed', 'VERB'),\n",
              " ('designed', 'VERB'),\n",
              " ('expressed', 'VERB'),\n",
              " ('retraced', 'VERB'),\n",
              " ('opposed', 'VERB'),\n",
              " ('mollified', 'VERB'),\n",
              " ('imposed', 'VERB'),\n",
              " ('proposed', 'VERB')]"
            ]
          },
          "metadata": {
            "tags": []
          },
          "execution_count": 138
        }
      ]
    },
    {
      "cell_type": "code",
      "metadata": {
        "colab": {
          "base_uri": "https://localhost:8080/"
        },
        "id": "3fnRxz6AqNsd",
        "outputId": "ed0e1c44-0915-429a-b1fc-52cb17bac026"
      },
      "source": [
        "#Lets see percentage of Adjective tags followed by nouns\r\n",
        "# create a list of all tags (without the words)\r\n",
        "tags = [pair[1] for pair in train_tagged_words]\r\n",
        "\r\n",
        "# create a list of Adj tags\r\n",
        "adj_tags = [t for t in tags if t == 'ADJ']\r\n",
        "\r\n",
        "# create a list of (ADJ, Noun) tags\r\n",
        "adj_noun_tags = [(t, tags[index+1]) for index, t in enumerate(tags) \r\n",
        "              if t=='ADJ' and tags[index+1]=='NOUN']\r\n",
        "\r\n",
        "print(len(adj_tags))\r\n",
        "print(len(adj_noun_tags))\r\n",
        "print(len(adj_noun_tags) / len(adj_tags))"
      ],
      "execution_count": 139,
      "outputs": [
        {
          "output_type": "stream",
          "text": [
            "6096\n",
            "4263\n",
            "0.6993110236220472\n"
          ],
          "name": "stdout"
        }
      ]
    },
    {
      "cell_type": "code",
      "metadata": {
        "colab": {
          "base_uri": "https://localhost:8080/"
        },
        "id": "H2FnvJT8qQvA",
        "outputId": "0434cedd-b705-433a-a7dc-36fb772e1158"
      },
      "source": [
        "#Lets see percentage of Determinent tags followed by nouns\r\n",
        "dt_tags = [t for t in tags if t == 'DET']\r\n",
        "dt_noun_tags = [(t, tags[index+1]) for index, t in enumerate(tags) \r\n",
        "              if t=='DET' and tags[index+1]=='NOUN']\r\n",
        "\r\n",
        "print(len(dt_tags))\r\n",
        "print(len(dt_noun_tags))\r\n",
        "print(len(dt_noun_tags) / len(dt_tags))"
      ],
      "execution_count": 140,
      "outputs": [
        {
          "output_type": "stream",
          "text": [
            "8290\n",
            "5283\n",
            "0.6372738238841978\n"
          ],
          "name": "stdout"
        }
      ]
    },
    {
      "cell_type": "code",
      "metadata": {
        "colab": {
          "base_uri": "https://localhost:8080/"
        },
        "id": "N0cuVxoNqTaI",
        "outputId": "3e83e867-8487-4725-f52f-fcbc825577a9"
      },
      "source": [
        "\r\n",
        "#Lets see percentage of Adverbs tags followed by Verbs\r\n",
        "adv_tags = [t for t in tags if t == 'ADV']\r\n",
        "adv_vb_tags = [(t, tags[index+1]) for index, t in enumerate(tags) \r\n",
        "              if t=='ADV' and tags[index+1]=='VERB']\r\n",
        "\r\n",
        "print(len(adv_tags))\r\n",
        "print(len(adv_vb_tags))\r\n",
        "print(len(adv_vb_tags) / len(adv_tags))"
      ],
      "execution_count": 141,
      "outputs": [
        {
          "output_type": "stream",
          "text": [
            "3017\n",
            "1038\n",
            "0.344050381173351\n"
          ],
          "name": "stdout"
        }
      ]
    },
    {
      "cell_type": "code",
      "metadata": {
        "id": "i6yeHjDoqXyX"
      },
      "source": [
        "# specify patterns for tagging\r\n",
        "patterns = [\r\n",
        "    (r'.*ing$', 'VERB'),              # gerund\r\n",
        "    (r'.*ed$', 'VERB'),               # past tense verbs\r\n",
        "    (r'.*es$', 'VERB'),               # singular present verbs\r\n",
        "    (r'.*ould$', 'VERB'),              # modal verbs\r\n",
        "    (r'.*\\'s$', 'NOUN'),              # possessive nouns\r\n",
        "    (r'.*s$', 'NOUN'),                # plural nouns\r\n",
        "    (r'^-?[0-9]+(.[0-9]+)?$', 'NUM'), # cardinal numbers\r\n",
        "    (r'(The|the|A|a|An|an)$', 'DET'),   # articles or determinants\r\n",
        "    (r'.*able$', 'ADJ'),                # adjectives\r\n",
        "    (r'.*ness$', 'NOUN'),                # nouns formed from adjectives\r\n",
        "    (r'.*ly$', 'ADV'),                  # adverbs\r\n",
        "    (r'.*', 'NOUN')                    # nouns\r\n",
        "]"
      ],
      "execution_count": 142,
      "outputs": []
    },
    {
      "cell_type": "code",
      "metadata": {
        "colab": {
          "base_uri": "https://localhost:8080/"
        },
        "id": "EvPDisMkqa7A",
        "outputId": "fee7e53d-39a1-46ce-d9bb-c3b291c8a381"
      },
      "source": [
        "# rule based tagger\r\n",
        "rule_based_tagger = nltk.RegexpTagger(patterns)\r\n",
        "\r\n",
        "# lexicon backed up by the rule-based tagger\r\n",
        "lexicon_tagger = nltk.UnigramTagger(train_set, backoff=rule_based_tagger)\r\n",
        "\r\n",
        "lexicon_tagger.evaluate(test_set)"
      ],
      "execution_count": 143,
      "outputs": [
        {
          "output_type": "execute_result",
          "data": {
            "text/plain": [
              "0.9509239022451818"
            ]
          },
          "metadata": {
            "tags": []
          },
          "execution_count": 143
        }
      ]
    },
    {
      "cell_type": "markdown",
      "metadata": {
        "id": "kcGr15WxQSqF"
      },
      "source": [
        "#### Evaluating tagging accuracy"
      ]
    },
    {
      "cell_type": "code",
      "metadata": {
        "id": "iePSkw4ZQSqG"
      },
      "source": [
        "\r\n",
        "#Trigram tagger backed by Bigram backed by Unigram which is backed by rule based tagger\r\n",
        "t0 = nltk.RegexpTagger(patterns)\r\n",
        "t1 = nltk.UnigramTagger(train_set, backoff=t0)\r\n",
        "t2 = nltk.BigramTagger(train_set, backoff=t1)\r\n",
        "t3 = nltk.TrigramTagger(train_set, backoff=t2)"
      ],
      "execution_count": 144,
      "outputs": []
    },
    {
      "cell_type": "code",
      "metadata": {
        "id": "NZBe8sBNQSqG"
      },
      "source": [
        "#Import libraries for brill\r\n",
        "import nltk.tag\r\n",
        "from nltk.tag import brill\r\n",
        "from nltk.tag.brill import *\r\n",
        "from nltk.tbl.template import Template\r\n",
        "from nltk.tag import BrillTaggerTrainer\r\n",
        "\r\n",
        "#Clear existing templates if any\r\n",
        "Template._cleartemplates()\r\n",
        "\r\n",
        "#Load the fntbl37 template\r\n",
        "templates = fntbl37()\r\n",
        " \r\n",
        "#Train the Brill model\r\n",
        "trainer = BrillTaggerTrainer(t3, templates)\r\n",
        "brill_tagger = trainer.train(train_set, max_rules=100, min_score=3)"
      ],
      "execution_count": 145,
      "outputs": []
    },
    {
      "cell_type": "code",
      "metadata": {
        "id": "wpYslLqLqwu_"
      },
      "source": [
        "# Viterbi Heuristic\r\n",
        "def Viterbi_updated(words, train_bag = train_tagged_words):\r\n",
        "    state = []\r\n",
        "    T = list(set([pair[1] for pair in train_bag]))\r\n",
        "    \r\n",
        "    for key, word in enumerate(words):\r\n",
        "        #initialise list of probability column for a given observation\r\n",
        "        p = [] \r\n",
        "        for tag in T:\r\n",
        "            if key == 0:\r\n",
        "                transition_p = tags_df.loc['.', tag]\r\n",
        "            else:\r\n",
        "                transition_p = tags_df.loc[state[-1], tag]\r\n",
        "                \r\n",
        "            # compute emission and state probabilities\r\n",
        "            emission_p = word_given_tag(words[key], tag)[0]/word_given_tag(words[key], tag)[1]\r\n",
        "            state_probability = emission_p * transition_p    \r\n",
        "            p.append(state_probability)\r\n",
        "            \r\n",
        "        pmax = max(p)\r\n",
        "       \r\n",
        "        #Check if state probability is zero\r\n",
        "        if(pmax==0.0):\r\n",
        "            #If state probability is zero i.e if the word is unknown if updates the tag based on the brill tagger\r\n",
        "            state_max = brill_tagger.tag([word])[0][1]\r\n",
        "        else:\r\n",
        "            # getting state for which probability is maximum\r\n",
        "            state_max = T[p.index(pmax)] \r\n",
        "        state.append(state_max)\r\n",
        "    return list(zip(words, state))"
      ],
      "execution_count": 146,
      "outputs": []
    },
    {
      "cell_type": "markdown",
      "metadata": {
        "id": "duf2Mb8arFgu"
      },
      "source": [
        "### Compare the tagging accuracies of the modifications with the vanilla Viterbi algorithm"
      ]
    },
    {
      "cell_type": "code",
      "metadata": {
        "colab": {
          "base_uri": "https://localhost:8080/"
        },
        "id": "XlbxvRWaqx-w",
        "outputId": "09a716bf-d281-4269-ceb8-af056a29dc22"
      },
      "source": [
        "# tagging the test sentences with the updated Viterbi algorithm\r\n",
        "start = time.time()\r\n",
        "updated_tagged_seq = Viterbi_updated(test_tagged_words)\r\n",
        "end = time.time()\r\n",
        "difference = end-start\r\n",
        "#Print total time taken to train the algorithm\r\n",
        "print(difference)"
      ],
      "execution_count": 147,
      "outputs": [
        {
          "output_type": "stream",
          "text": [
            "27.21277403831482\n"
          ],
          "name": "stdout"
        }
      ]
    },
    {
      "cell_type": "code",
      "metadata": {
        "colab": {
          "base_uri": "https://localhost:8080/"
        },
        "id": "zLfjknfkq0xX",
        "outputId": "f57d94ea-ad05-420a-dddc-cb212e52958b"
      },
      "source": [
        "# Calculate the accuracy for the updated Viterbi algorithm\r\n",
        "check = [i for i, j in zip(updated_tagged_seq, test_run_base) if i == j] \r\n",
        "accuracy = len(check)/len(updated_tagged_seq)\r\n",
        "print(round(accuracy*100,2),\"%\")"
      ],
      "execution_count": 148,
      "outputs": [
        {
          "output_type": "stream",
          "text": [
            "95.5 %\n"
          ],
          "name": "stdout"
        }
      ]
    },
    {
      "cell_type": "markdown",
      "metadata": {
        "id": "YV_kE5QvQSqK"
      },
      "source": [
        "### List down cases which were incorrectly tagged by original POS tagger and got corrected by your modifications"
      ]
    },
    {
      "cell_type": "code",
      "metadata": {
        "id": "tOEte4oxQSqK",
        "colab": {
          "base_uri": "https://localhost:8080/"
        },
        "outputId": "390de059-38ae-4357-d961-ed21c0dc95d6"
      },
      "source": [
        "#Let us print the test lines with the initial Viterbi algorithm\r\n",
        "for line in test_lines:\r\n",
        "    print(list(Viterbi(word_tokenize(line))))"
      ],
      "execution_count": 149,
      "outputs": [
        {
          "output_type": "stream",
          "text": [
            "[('Android', 'PRT'), ('is', 'VERB'), ('a', 'DET'), ('mobile', 'ADJ'), ('operating', 'NOUN'), ('system', 'NOUN'), ('developed', 'VERB'), ('by', 'ADP'), ('Google', 'PRT'), ('.', '.')]\n",
            "[('Android', 'PRT'), ('has', 'VERB'), ('been', 'VERB'), ('the', 'DET'), ('best-selling', 'ADJ'), ('OS', 'PRT'), ('worldwide', 'PRT'), ('on', 'ADP'), ('smartphones', 'PRT'), ('since', 'ADP'), ('2011', 'PRT'), ('and', 'CONJ'), ('on', 'ADP'), ('tablets', 'NOUN'), ('since', 'ADP'), ('2013', 'PRT'), ('.', '.')]\n",
            "[('Google', 'PRT'), ('and', 'CONJ'), ('Twitter', 'PRT'), ('made', 'VERB'), ('a', 'DET'), ('deal', 'NOUN'), ('in', 'ADP'), ('2015', 'PRT'), ('that', 'DET'), ('gave', 'VERB'), ('Google', 'PRT'), ('access', 'NOUN'), ('to', 'PRT'), ('Twitter', 'PRT'), (\"'s\", 'VERB'), ('firehose', 'PRT'), ('.', '.')]\n",
            "[('Twitter', 'PRT'), ('is', 'VERB'), ('an', 'DET'), ('online', 'PRT'), ('news', 'NOUN'), ('and', 'CONJ'), ('social', 'ADJ'), ('networking', 'NOUN'), ('service', 'NOUN'), ('on', 'ADP'), ('which', 'DET'), ('users', 'NOUN'), ('post', 'NOUN'), ('and', 'CONJ'), ('interact', 'PRT'), ('with', 'ADP'), ('messages', 'PRT'), ('known', 'VERB'), ('as', 'ADP'), ('tweets', 'PRT'), ('.', '.')]\n",
            "[('Before', 'ADP'), ('entering', 'VERB'), ('politics', 'NOUN'), (',', '.'), ('Donald', 'NOUN'), ('Trump', 'NOUN'), ('was', 'VERB'), ('a', 'DET'), ('domineering', 'PRT'), ('businessman', 'NOUN'), ('and', 'CONJ'), ('a', 'DET'), ('television', 'NOUN'), ('personality', 'PRT'), ('.', '.')]\n",
            "[('The', 'DET'), ('2018', 'PRT'), ('FIFA', 'PRT'), ('World', 'NOUN'), ('Cup', 'PRT'), ('is', 'VERB'), ('the', 'DET'), ('21st', 'PRT'), ('FIFA', 'PRT'), ('World', 'NOUN'), ('Cup', 'PRT'), (',', '.'), ('an', 'DET'), ('international', 'ADJ'), ('football', 'NOUN'), ('tournament', 'PRT'), ('contested', 'PRT'), ('once', 'ADV'), ('every', 'DET'), ('four', 'NUM'), ('years', 'NOUN'), ('.', '.')]\n",
            "[('This', 'DET'), ('is', 'VERB'), ('the', 'DET'), ('first', 'ADJ'), ('World', 'NOUN'), ('Cup', 'PRT'), ('to', 'PRT'), ('be', 'VERB'), ('held', 'VERB'), ('in', 'ADP'), ('Eastern', 'NOUN'), ('Europe', 'NOUN'), ('and', 'CONJ'), ('the', 'DET'), ('11th', 'ADJ'), ('time', 'NOUN'), ('that', 'ADP'), ('it', 'PRON'), ('has', 'VERB'), ('been', 'VERB'), ('held', 'VERB'), ('in', 'ADP'), ('Europe', 'NOUN'), ('.', '.')]\n",
            "[('Show', 'NOUN'), ('me', 'PRON'), ('the', 'DET'), ('cheapest', 'ADJ'), ('round', 'NOUN'), ('trips', 'PRT'), ('from', 'ADP'), ('Dallas', 'NOUN'), ('to', 'PRT'), ('Atlanta', 'NOUN')]\n",
            "[('I', 'PRON'), ('would', 'VERB'), ('like', 'ADP'), ('to', 'PRT'), ('see', 'VERB'), ('flights', 'NOUN'), ('from', 'ADP'), ('Denver', 'NOUN'), ('to', 'PRT'), ('Philadelphia', 'NOUN'), ('.', '.')]\n",
            "[('Show', 'NOUN'), ('me', 'PRON'), ('the', 'DET'), ('price', 'NOUN'), ('of', 'ADP'), ('the', 'DET'), ('flights', 'NOUN'), ('leaving', 'VERB'), ('Atlanta', 'NOUN'), ('at', 'ADP'), ('about', 'ADP'), ('3', 'NUM'), ('in', 'ADP'), ('the', 'DET'), ('afternoon', 'NOUN'), ('and', 'CONJ'), ('arriving', 'PRT'), ('in', 'ADP'), ('San', 'NOUN'), ('Francisco', 'NOUN'), ('.', '.')]\n",
            "[('NASA', 'PRT'), ('invited', 'PRT'), ('social', 'ADJ'), ('media', 'NOUN'), ('users', 'NOUN'), ('to', 'PRT'), ('experience', 'NOUN'), ('the', 'DET'), ('launch', 'NOUN'), ('of', 'ADP'), ('ICESAT-2', 'PRT'), ('Satellite', 'PRT'), ('.', '.')]\n"
          ],
          "name": "stdout"
        }
      ]
    },
    {
      "cell_type": "code",
      "metadata": {
        "id": "tZT6kG6sQSqL",
        "colab": {
          "base_uri": "https://localhost:8080/"
        },
        "outputId": "c657c528-2f99-4e16-9e54-676371c22f68"
      },
      "source": [
        "#Let us print the test lines with the updated Viterbi algorithm\r\n",
        "for line in test_lines:\r\n",
        "    print(list(Viterbi_updated(word_tokenize(line))))"
      ],
      "execution_count": 150,
      "outputs": [
        {
          "output_type": "stream",
          "text": [
            "[('Android', 'NOUN'), ('is', 'VERB'), ('a', 'DET'), ('mobile', 'ADJ'), ('operating', 'NOUN'), ('system', 'NOUN'), ('developed', 'VERB'), ('by', 'ADP'), ('Google', 'NOUN'), ('.', '.')]\n",
            "[('Android', 'NOUN'), ('has', 'VERB'), ('been', 'VERB'), ('the', 'DET'), ('best-selling', 'ADJ'), ('OS', 'NOUN'), ('worldwide', 'NOUN'), ('on', 'ADP'), ('smartphones', 'VERB'), ('since', 'ADP'), ('2011', 'NUM'), ('and', 'CONJ'), ('on', 'ADP'), ('tablets', 'NOUN'), ('since', 'ADP'), ('2013', 'NUM'), ('.', '.')]\n",
            "[('Google', 'NOUN'), ('and', 'CONJ'), ('Twitter', 'NOUN'), ('made', 'VERB'), ('a', 'DET'), ('deal', 'NOUN'), ('in', 'ADP'), ('2015', 'NUM'), ('that', 'ADP'), ('gave', 'VERB'), ('Google', 'NOUN'), ('access', 'NOUN'), ('to', 'PRT'), ('Twitter', 'NOUN'), (\"'s\", 'PRT'), ('firehose', 'NOUN'), ('.', '.')]\n",
            "[('Twitter', 'NOUN'), ('is', 'VERB'), ('an', 'DET'), ('online', 'NOUN'), ('news', 'NOUN'), ('and', 'CONJ'), ('social', 'ADJ'), ('networking', 'NOUN'), ('service', 'NOUN'), ('on', 'ADP'), ('which', 'DET'), ('users', 'NOUN'), ('post', 'NOUN'), ('and', 'CONJ'), ('interact', 'NOUN'), ('with', 'ADP'), ('messages', 'VERB'), ('known', 'VERB'), ('as', 'ADP'), ('tweets', 'NOUN'), ('.', '.')]\n",
            "[('Before', 'ADP'), ('entering', 'VERB'), ('politics', 'NOUN'), (',', '.'), ('Donald', 'NOUN'), ('Trump', 'NOUN'), ('was', 'VERB'), ('a', 'DET'), ('domineering', 'VERB'), ('businessman', 'NOUN'), ('and', 'CONJ'), ('a', 'DET'), ('television', 'NOUN'), ('personality', 'NOUN'), ('.', '.')]\n",
            "[('The', 'DET'), ('2018', 'NUM'), ('FIFA', 'NOUN'), ('World', 'NOUN'), ('Cup', 'NOUN'), ('is', 'VERB'), ('the', 'DET'), ('21st', 'NOUN'), ('FIFA', 'NOUN'), ('World', 'NOUN'), ('Cup', 'NOUN'), (',', '.'), ('an', 'DET'), ('international', 'ADJ'), ('football', 'NOUN'), ('tournament', 'NOUN'), ('contested', 'VERB'), ('once', 'ADV'), ('every', 'DET'), ('four', 'NUM'), ('years', 'NOUN'), ('.', '.')]\n",
            "[('This', 'DET'), ('is', 'VERB'), ('the', 'DET'), ('first', 'ADJ'), ('World', 'NOUN'), ('Cup', 'NOUN'), ('to', 'PRT'), ('be', 'VERB'), ('held', 'VERB'), ('in', 'ADP'), ('Eastern', 'NOUN'), ('Europe', 'NOUN'), ('and', 'CONJ'), ('the', 'DET'), ('11th', 'ADJ'), ('time', 'NOUN'), ('that', 'ADP'), ('it', 'PRON'), ('has', 'VERB'), ('been', 'VERB'), ('held', 'VERB'), ('in', 'ADP'), ('Europe', 'NOUN'), ('.', '.')]\n",
            "[('Show', 'NOUN'), ('me', 'PRON'), ('the', 'DET'), ('cheapest', 'ADJ'), ('round', 'NOUN'), ('trips', 'NOUN'), ('from', 'ADP'), ('Dallas', 'NOUN'), ('to', 'PRT'), ('Atlanta', 'NOUN')]\n",
            "[('I', 'PRON'), ('would', 'VERB'), ('like', 'ADP'), ('to', 'PRT'), ('see', 'VERB'), ('flights', 'NOUN'), ('from', 'ADP'), ('Denver', 'NOUN'), ('to', 'PRT'), ('Philadelphia', 'NOUN'), ('.', '.')]\n",
            "[('Show', 'NOUN'), ('me', 'PRON'), ('the', 'DET'), ('price', 'NOUN'), ('of', 'ADP'), ('the', 'DET'), ('flights', 'NOUN'), ('leaving', 'VERB'), ('Atlanta', 'NOUN'), ('at', 'ADP'), ('about', 'ADP'), ('3', 'NUM'), ('in', 'ADP'), ('the', 'DET'), ('afternoon', 'NOUN'), ('and', 'CONJ'), ('arriving', 'VERB'), ('in', 'ADP'), ('San', 'NOUN'), ('Francisco', 'NOUN'), ('.', '.')]\n",
            "[('NASA', 'NOUN'), ('invited', 'VERB'), ('social', 'ADJ'), ('media', 'NOUN'), ('users', 'NOUN'), ('to', 'PRT'), ('experience', 'NOUN'), ('the', 'DET'), ('launch', 'NOUN'), ('of', 'ADP'), ('ICESAT-2', 'NOUN'), ('Satellite', 'NOUN'), ('.', '.')]\n"
          ],
          "name": "stdout"
        }
      ]
    },
    {
      "cell_type": "markdown",
      "metadata": {
        "id": "tD0djxQhw6qz"
      },
      "source": [
        "Here you can see that the words like Android, Google and Twitter were tagged as PRT incorrectly but now they have been correctly classified as NOUN"
      ]
    },
    {
      "cell_type": "code",
      "metadata": {
        "id": "yu2ruJNGQSqM"
      },
      "source": [
        "# Viterbi Heuristic\r\n",
        "def Viterbi_updated2(words, train_bag = train_tagged_words):\r\n",
        "    state = []\r\n",
        "    T = list(set([pair[1] for pair in train_bag]))\r\n",
        "    \r\n",
        "    for key, word in enumerate(words):\r\n",
        "        #initialise list of probability column for a given observation\r\n",
        "        p = [] \r\n",
        "        for tag in T:\r\n",
        "            if key == 0:\r\n",
        "                transition_p = tags_df.loc['.', tag]\r\n",
        "            else:\r\n",
        "                transition_p = tags_df.loc[state[-1], tag]\r\n",
        "                \r\n",
        "            # compute emission and state probabilities\r\n",
        "            emission_p = word_given_tag(words[key], tag)[0]/word_given_tag(words[key], tag)[1]\r\n",
        "            state_probability = emission_p * transition_p    \r\n",
        "            p.append(state_probability)\r\n",
        "            \r\n",
        "        pmax = max(p)\r\n",
        "       \r\n",
        "        #Check if state probability is zero\r\n",
        "        if(pmax<0.001):\r\n",
        "            #If state probability is zero i.e if the word is unknown if updates the tag based on the brill tagger\r\n",
        "            state_max = brill_tagger.tag([word])[0][1]\r\n",
        "        else:\r\n",
        "            # getting state for which probability is maximum\r\n",
        "            state_max = T[p.index(pmax)] \r\n",
        "        state.append(state_max)\r\n",
        "    return list(zip(words, state))"
      ],
      "execution_count": 151,
      "outputs": []
    },
    {
      "cell_type": "code",
      "metadata": {
        "colab": {
          "base_uri": "https://localhost:8080/"
        },
        "id": "BMrblt-hrlrv",
        "outputId": "aff7e712-c310-49f6-fd5a-800db52b8a03"
      },
      "source": [
        "# tagging the test sentences with the updated Viterbi algorithm\r\n",
        "start = time.time()\r\n",
        "updated_tagged_seq = Viterbi_updated2(test_tagged_words)\r\n",
        "end = time.time()\r\n",
        "difference = end-start\r\n",
        "#Print total time taken to train the algorithm\r\n",
        "print(difference)"
      ],
      "execution_count": 152,
      "outputs": [
        {
          "output_type": "stream",
          "text": [
            "25.89185857772827\n"
          ],
          "name": "stdout"
        }
      ]
    },
    {
      "cell_type": "code",
      "metadata": {
        "colab": {
          "base_uri": "https://localhost:8080/"
        },
        "id": "J42CZRHkrnn-",
        "outputId": "82f0463a-281c-40c4-e2a2-bd9c9bb69fad"
      },
      "source": [
        "# Calculate the accuracy for the updated Viterbi algorithm\r\n",
        "check = [i for i, j in zip(updated_tagged_seq, test_run_base) if i == j] \r\n",
        "accuracy = len(check)/len(updated_tagged_seq)\r\n",
        "print(round(accuracy*100,2),\"%\")"
      ],
      "execution_count": 153,
      "outputs": [
        {
          "output_type": "stream",
          "text": [
            "95.5 %\n"
          ],
          "name": "stdout"
        }
      ]
    }
  ]
}